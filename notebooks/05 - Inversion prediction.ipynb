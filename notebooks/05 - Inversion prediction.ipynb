{
 "cells": [
  {
   "cell_type": "code",
   "execution_count": 1,
   "metadata": {
    "collapsed": true
   },
   "outputs": [],
   "source": [
    "import librosa\n",
    "import librosa.display\n",
    "import matplotlib.pyplot as plt\n",
    "%matplotlib nbagg\n",
    "import numpy as np"
   ]
  },
  {
   "cell_type": "code",
   "execution_count": 2,
   "metadata": {
    "collapsed": true
   },
   "outputs": [],
   "source": [
    "import os"
   ]
  },
  {
   "cell_type": "code",
   "execution_count": 3,
   "metadata": {
    "collapsed": true
   },
   "outputs": [],
   "source": [
    "os.environ['KERAS_BACKEND'] = 'tensorflow'"
   ]
  },
  {
   "cell_type": "code",
   "execution_count": 4,
   "metadata": {},
   "outputs": [
    {
     "name": "stderr",
     "output_type": "stream",
     "text": [
      "Using TensorFlow backend.\n"
     ]
    }
   ],
   "source": [
    "import keras as K"
   ]
  },
  {
   "cell_type": "code",
   "execution_count": 5,
   "metadata": {
    "collapsed": true
   },
   "outputs": [],
   "source": [
    "import jams\n",
    "import jams.display"
   ]
  },
  {
   "cell_type": "code",
   "execution_count": 6,
   "metadata": {
    "collapsed": true
   },
   "outputs": [],
   "source": [
    "import imp\n",
    "import pumpp\n",
    "import pickle"
   ]
  },
  {
   "cell_type": "code",
   "execution_count": 7,
   "metadata": {
    "collapsed": true
   },
   "outputs": [],
   "source": [
    "mod = imp.load_source('train_model', '/home/bmcfee/git/ismir2017_chords/code/train_model.py')"
   ]
  },
  {
   "cell_type": "code",
   "execution_count": 8,
   "metadata": {
    "collapsed": true
   },
   "outputs": [],
   "source": [
    "dmod = imp.load_source('train_deep', '/home/bmcfee/git/ismir2017_chords/code/train_deep.py')"
   ]
  },
  {
   "cell_type": "code",
   "execution_count": 9,
   "metadata": {},
   "outputs": [
    {
     "name": "stderr",
     "output_type": "stream",
     "text": [
      "/home/bmcfee/miniconda/envs/py35/lib/python3.5/site-packages/sklearn/base.py:312: UserWarning: Trying to unpickle estimator LabelEncoder from version 0.18 when using version 0.19.0. This might lead to breaking code or invalid results. Use at your own risk.\n",
      "  UserWarning)\n",
      "/home/bmcfee/miniconda/envs/py35/lib/python3.5/site-packages/sklearn/base.py:312: UserWarning: Trying to unpickle estimator MultiLabelBinarizer from version 0.18 when using version 0.19.0. This might lead to breaking code or invalid results. Use at your own risk.\n",
      "  UserWarning)\n"
     ]
    }
   ],
   "source": [
    "with open('/home/bmcfee/git/ismir2017_chords/data/pump.pkl', 'rb') as fd:\n",
    "    pump = pickle.load(fd)"
   ]
  },
  {
   "cell_type": "code",
   "execution_count": 10,
   "metadata": {
    "collapsed": true
   },
   "outputs": [],
   "source": [
    "cr1s = mod.construct_model(pump, True)[0]"
   ]
  },
  {
   "cell_type": "code",
   "execution_count": 11,
   "metadata": {
    "collapsed": true
   },
   "outputs": [],
   "source": [
    "cr2s = dmod.construct_model(pump, True)[0]"
   ]
  },
  {
   "cell_type": "code",
   "execution_count": 19,
   "metadata": {
    "collapsed": true
   },
   "outputs": [],
   "source": [
    "cr1s.load_weights('/home/bmcfee/git/ismir2017_chords/data/model_struct_aug/fold00_weights.pkl')"
   ]
  },
  {
   "cell_type": "code",
   "execution_count": 20,
   "metadata": {
    "collapsed": true
   },
   "outputs": [],
   "source": [
    "cr2s.load_weights('/home/bmcfee/git/ismir2017_chords/data/model_deep_struct_aug/fold00_weights.pkl')"
   ]
  },
  {
   "cell_type": "code",
   "execution_count": 53,
   "metadata": {
    "collapsed": true
   },
   "outputs": [],
   "source": [
    "import scipy.stats"
   ]
  },
  {
   "cell_type": "code",
   "execution_count": 119,
   "metadata": {
    "collapsed": true
   },
   "outputs": [],
   "source": [
    "import pandas as pd"
   ]
  },
  {
   "cell_type": "code",
   "execution_count": 55,
   "metadata": {
    "collapsed": true
   },
   "outputs": [],
   "source": [
    "import mir_eval"
   ]
  },
  {
   "cell_type": "code",
   "execution_count": 194,
   "metadata": {
    "collapsed": true
   },
   "outputs": [],
   "source": [
    "from librosa import time_to_frames\n",
    "\n",
    "SEMITONE_TO_SCALE_DEGREE = ['1', 'b2', '2', 'b3', '3', '4', 'b5', '5', 'b6', '6', 'b7', '7']\n",
    "\n",
    "def preds_to_inversions(pump_op, tag_pred, bass_pred):\n",
    "    \n",
    "    #ann = pump['chord_tag'].inverse(tag_pred)\n",
    "    ann = pump_op.inverse(tag_pred)\n",
    "    \n",
    "    for obs in ann.pop_data():\n",
    "        value = obs.value\n",
    "        \n",
    "        if obs.value not in ('N', 'X'):\n",
    "            # 1. Convert (time, time+duration) to frames\n",
    "            start, end = time_to_frames([obs.time, obs.time + obs.duration],\n",
    "                                        sr=pump_op.sr, hop_length=pump_op.hop_length)\n",
    "            \n",
    "            # 2. G-mean aggregate bass_pred at the frame level\n",
    "            mean_bass = scipy.stats.gmean(bass_pred[start:end+1])\n",
    "        \n",
    "            # 3. Find the argmax of the aggregated frames\n",
    "            bass_pc = np.argmax(mean_bass)\n",
    "            \n",
    "            # 4. map argmax to scale degree\n",
    "            root_pc, pitches, _ = mir_eval.chord.encode(obs.value)\n",
    "            \n",
    "            bass_rel = 0\n",
    "            if bass_pc < 12:\n",
    "                bass_rel = np.mod(bass_pc - root_pc, 12)\n",
    "            \n",
    "            if bass_rel and pitches[bass_rel]:\n",
    "                value = '{}/{}'.format(value, SEMITONE_TO_SCALE_DEGREE[bass_rel])\n",
    "            \n",
    "        # 5. Re-insert to ann\n",
    "        ann.append(time=obs.time, duration=obs.duration,\n",
    "                   value=value,\n",
    "                   confidence=obs.confidence)\n",
    "        \n",
    "    return ann"
   ]
  },
  {
   "cell_type": "code",
   "execution_count": 149,
   "metadata": {},
   "outputs": [
    {
     "data": {
      "text/plain": [
       "(1, array([1, 0, 0, 0, 1, 0, 0, 1, 0, 0, 0, 0]), 4)"
      ]
     },
     "execution_count": 149,
     "metadata": {},
     "output_type": "execute_result"
    }
   ],
   "source": [
    "mir_eval.chord.encode('C#:maj/3')"
   ]
  },
  {
   "cell_type": "code",
   "execution_count": 196,
   "metadata": {
    "collapsed": true
   },
   "outputs": [],
   "source": [
    "model = K.models.load_model('/home/bmcfee/git/ismir2017_chords/data/model_struct_aug/fold00_weights.pkl',\n",
    "                           custom_objects=dict(K=K), compile=False)"
   ]
  },
  {
   "cell_type": "code",
   "execution_count": 197,
   "metadata": {},
   "outputs": [
    {
     "data": {
      "text/plain": [
       "['chord_tag', 'chord_pitch', 'chord_root', 'chord_bass']"
      ]
     },
     "execution_count": 197,
     "metadata": {},
     "output_type": "execute_result"
    }
   ],
   "source": [
    "model.output_names"
   ]
  },
  {
   "cell_type": "code",
   "execution_count": 198,
   "metadata": {
    "collapsed": true
   },
   "outputs": [],
   "source": [
    "preds = model.predict(data['cqt/mag'])"
   ]
  },
  {
   "cell_type": "code",
   "execution_count": 200,
   "metadata": {},
   "outputs": [
    {
     "data": {
      "text/plain": [
       "[(1, 2232, 170), (1, 2232, 12), (1, 2232, 13), (1, 2232, 13)]"
      ]
     },
     "execution_count": 200,
     "metadata": {},
     "output_type": "execute_result"
    }
   ],
   "source": [
    "[_.shape for _ in preds]"
   ]
  },
  {
   "cell_type": "code",
   "execution_count": 204,
   "metadata": {
    "collapsed": true
   },
   "outputs": [],
   "source": [
    "ref_jam = jams.load('/home/bmcfee/data/eric_chords/references_v2/TRXBKDB149E3B7589E.jams')"
   ]
  },
  {
   "cell_type": "code",
   "execution_count": 203,
   "metadata": {
    "collapsed": true
   },
   "outputs": [],
   "source": [
    "chordino_jam = jams.load('/home/bmcfee/git/ismir2017_chords/data/chordino/TRXBKDB149E3B7589E.jams')"
   ]
  },
  {
   "cell_type": "code",
   "execution_count": 217,
   "metadata": {
    "collapsed": true
   },
   "outputs": [],
   "source": [
    "madmom_jam = jams.load('/home/bmcfee/git/ismir2017_chords/data/madmom/TRXBKDB149E3B7589E.jams')"
   ]
  },
  {
   "cell_type": "code",
   "execution_count": 205,
   "metadata": {
    "collapsed": true
   },
   "outputs": [],
   "source": [
    "data = pump.transform('/home/bmcfee/data/eric_chords/audio/TRXBKDB149E3B7589E.mp3')"
   ]
  },
  {
   "cell_type": "code",
   "execution_count": 206,
   "metadata": {
    "collapsed": true
   },
   "outputs": [],
   "source": [
    "tag_pred1, pc_pred1, root_pred1, bass_pred1 = cr1s.predict(data['cqt/mag'])"
   ]
  },
  {
   "cell_type": "code",
   "execution_count": 207,
   "metadata": {
    "collapsed": true
   },
   "outputs": [],
   "source": [
    "tag_pred2, pc_pred2, root_pred2, bass_pred2 = cr2s.predict(data['cqt/mag'])"
   ]
  },
  {
   "cell_type": "code",
   "execution_count": 208,
   "metadata": {
    "collapsed": true
   },
   "outputs": [],
   "source": [
    "ann1_noinv = op.inverse(tag_pred1[0])"
   ]
  },
  {
   "cell_type": "code",
   "execution_count": 209,
   "metadata": {
    "collapsed": true
   },
   "outputs": [],
   "source": [
    "ann1_inv = preds_to_inversions(op, tag_pred1[0], bass_pred1[0])"
   ]
  },
  {
   "cell_type": "code",
   "execution_count": 210,
   "metadata": {
    "collapsed": true
   },
   "outputs": [],
   "source": [
    "ann2_noinv = op.inverse(tag_pred2[0])"
   ]
  },
  {
   "cell_type": "code",
   "execution_count": 211,
   "metadata": {
    "collapsed": true
   },
   "outputs": [],
   "source": [
    "ann2_inv = preds_to_inversions(op, tag_pred2[0], bass_pred2[0])"
   ]
  },
  {
   "cell_type": "code",
   "execution_count": 212,
   "metadata": {},
   "outputs": [
    {
     "data": {
      "text/html": [
       "<div>\n",
       "<style>\n",
       "    .dataframe thead tr:only-child th {\n",
       "        text-align: right;\n",
       "    }\n",
       "\n",
       "    .dataframe thead th {\n",
       "        text-align: left;\n",
       "    }\n",
       "\n",
       "    .dataframe tbody tr th {\n",
       "        vertical-align: top;\n",
       "    }\n",
       "</style>\n",
       "<table border=\"1\" class=\"dataframe\">\n",
       "  <thead>\n",
       "    <tr style=\"text-align: right;\">\n",
       "      <th></th>\n",
       "      <th>majmin</th>\n",
       "      <th>majmin_inv</th>\n",
       "      <th>mirex</th>\n",
       "      <th>root</th>\n",
       "      <th>sevenths</th>\n",
       "      <th>sevenths_inv</th>\n",
       "      <th>tetrads</th>\n",
       "      <th>tetrads_inv</th>\n",
       "      <th>thirds</th>\n",
       "      <th>thirds_inv</th>\n",
       "      <th>triads</th>\n",
       "      <th>triads_inv</th>\n",
       "    </tr>\n",
       "  </thead>\n",
       "  <tbody>\n",
       "    <tr>\n",
       "      <th>0</th>\n",
       "      <td>0.663337</td>\n",
       "      <td>0.58469</td>\n",
       "      <td>0.773219</td>\n",
       "      <td>0.663337</td>\n",
       "      <td>0.578541</td>\n",
       "      <td>0.493178</td>\n",
       "      <td>0.533024</td>\n",
       "      <td>0.454377</td>\n",
       "      <td>0.663337</td>\n",
       "      <td>0.58469</td>\n",
       "      <td>0.663337</td>\n",
       "      <td>0.58469</td>\n",
       "    </tr>\n",
       "  </tbody>\n",
       "</table>\n",
       "</div>"
      ],
      "text/plain": [
       "     majmin  majmin_inv     mirex      root  sevenths  sevenths_inv   tetrads  \\\n",
       "0  0.663337     0.58469  0.773219  0.663337  0.578541      0.493178  0.533024   \n",
       "\n",
       "   tetrads_inv    thirds  thirds_inv    triads  triads_inv  \n",
       "0     0.454377  0.663337     0.58469  0.663337     0.58469  "
      ]
     },
     "execution_count": 212,
     "metadata": {},
     "output_type": "execute_result"
    }
   ],
   "source": [
    "pd.DataFrame.from_dict(dict(jams.eval.chord(ref_jam.annotations[0], ann1_noinv)), orient='index').T.sort_index(axis=1)"
   ]
  },
  {
   "cell_type": "code",
   "execution_count": 213,
   "metadata": {},
   "outputs": [
    {
     "data": {
      "text/html": [
       "<div>\n",
       "<style>\n",
       "    .dataframe thead tr:only-child th {\n",
       "        text-align: right;\n",
       "    }\n",
       "\n",
       "    .dataframe thead th {\n",
       "        text-align: left;\n",
       "    }\n",
       "\n",
       "    .dataframe tbody tr th {\n",
       "        vertical-align: top;\n",
       "    }\n",
       "</style>\n",
       "<table border=\"1\" class=\"dataframe\">\n",
       "  <thead>\n",
       "    <tr style=\"text-align: right;\">\n",
       "      <th></th>\n",
       "      <th>majmin</th>\n",
       "      <th>majmin_inv</th>\n",
       "      <th>mirex</th>\n",
       "      <th>root</th>\n",
       "      <th>sevenths</th>\n",
       "      <th>sevenths_inv</th>\n",
       "      <th>tetrads</th>\n",
       "      <th>tetrads_inv</th>\n",
       "      <th>thirds</th>\n",
       "      <th>thirds_inv</th>\n",
       "      <th>triads</th>\n",
       "      <th>triads_inv</th>\n",
       "    </tr>\n",
       "  </thead>\n",
       "  <tbody>\n",
       "    <tr>\n",
       "      <th>0</th>\n",
       "      <td>0.663337</td>\n",
       "      <td>0.576932</td>\n",
       "      <td>0.773219</td>\n",
       "      <td>0.663337</td>\n",
       "      <td>0.578541</td>\n",
       "      <td>0.487815</td>\n",
       "      <td>0.533024</td>\n",
       "      <td>0.449436</td>\n",
       "      <td>0.663337</td>\n",
       "      <td>0.576932</td>\n",
       "      <td>0.663337</td>\n",
       "      <td>0.576932</td>\n",
       "    </tr>\n",
       "  </tbody>\n",
       "</table>\n",
       "</div>"
      ],
      "text/plain": [
       "     majmin  majmin_inv     mirex      root  sevenths  sevenths_inv   tetrads  \\\n",
       "0  0.663337    0.576932  0.773219  0.663337  0.578541      0.487815  0.533024   \n",
       "\n",
       "   tetrads_inv    thirds  thirds_inv    triads  triads_inv  \n",
       "0     0.449436  0.663337    0.576932  0.663337    0.576932  "
      ]
     },
     "execution_count": 213,
     "metadata": {},
     "output_type": "execute_result"
    }
   ],
   "source": [
    "pd.DataFrame.from_dict(dict(jams.eval.chord(ref_jam.annotations[0], ann1_inv)), orient='index').T.sort_index(axis=1)"
   ]
  },
  {
   "cell_type": "code",
   "execution_count": 214,
   "metadata": {},
   "outputs": [
    {
     "data": {
      "text/html": [
       "<div>\n",
       "<style>\n",
       "    .dataframe thead tr:only-child th {\n",
       "        text-align: right;\n",
       "    }\n",
       "\n",
       "    .dataframe thead th {\n",
       "        text-align: left;\n",
       "    }\n",
       "\n",
       "    .dataframe tbody tr th {\n",
       "        vertical-align: top;\n",
       "    }\n",
       "</style>\n",
       "<table border=\"1\" class=\"dataframe\">\n",
       "  <thead>\n",
       "    <tr style=\"text-align: right;\">\n",
       "      <th></th>\n",
       "      <th>majmin</th>\n",
       "      <th>majmin_inv</th>\n",
       "      <th>mirex</th>\n",
       "      <th>root</th>\n",
       "      <th>sevenths</th>\n",
       "      <th>sevenths_inv</th>\n",
       "      <th>tetrads</th>\n",
       "      <th>tetrads_inv</th>\n",
       "      <th>thirds</th>\n",
       "      <th>thirds_inv</th>\n",
       "      <th>triads</th>\n",
       "      <th>triads_inv</th>\n",
       "    </tr>\n",
       "  </thead>\n",
       "  <tbody>\n",
       "    <tr>\n",
       "      <th>0</th>\n",
       "      <td>0.773326</td>\n",
       "      <td>0.581846</td>\n",
       "      <td>0.828056</td>\n",
       "      <td>0.802215</td>\n",
       "      <td>0.716502</td>\n",
       "      <td>0.510696</td>\n",
       "      <td>0.661328</td>\n",
       "      <td>0.471713</td>\n",
       "      <td>0.773725</td>\n",
       "      <td>0.581846</td>\n",
       "      <td>0.773326</td>\n",
       "      <td>0.581846</td>\n",
       "    </tr>\n",
       "  </tbody>\n",
       "</table>\n",
       "</div>"
      ],
      "text/plain": [
       "     majmin  majmin_inv     mirex      root  sevenths  sevenths_inv   tetrads  \\\n",
       "0  0.773326    0.581846  0.828056  0.802215  0.716502      0.510696  0.661328   \n",
       "\n",
       "   tetrads_inv    thirds  thirds_inv    triads  triads_inv  \n",
       "0     0.471713  0.773725    0.581846  0.773326    0.581846  "
      ]
     },
     "execution_count": 214,
     "metadata": {},
     "output_type": "execute_result"
    }
   ],
   "source": [
    "pd.DataFrame.from_dict(dict(jams.eval.chord(ref_jam.annotations[0], ann2_noinv)), orient='index').T.sort_index(axis=1)"
   ]
  },
  {
   "cell_type": "code",
   "execution_count": 215,
   "metadata": {},
   "outputs": [
    {
     "data": {
      "text/html": [
       "<div>\n",
       "<style>\n",
       "    .dataframe thead tr:only-child th {\n",
       "        text-align: right;\n",
       "    }\n",
       "\n",
       "    .dataframe thead th {\n",
       "        text-align: left;\n",
       "    }\n",
       "\n",
       "    .dataframe tbody tr th {\n",
       "        vertical-align: top;\n",
       "    }\n",
       "</style>\n",
       "<table border=\"1\" class=\"dataframe\">\n",
       "  <thead>\n",
       "    <tr style=\"text-align: right;\">\n",
       "      <th></th>\n",
       "      <th>majmin</th>\n",
       "      <th>majmin_inv</th>\n",
       "      <th>mirex</th>\n",
       "      <th>root</th>\n",
       "      <th>sevenths</th>\n",
       "      <th>sevenths_inv</th>\n",
       "      <th>tetrads</th>\n",
       "      <th>tetrads_inv</th>\n",
       "      <th>thirds</th>\n",
       "      <th>thirds_inv</th>\n",
       "      <th>triads</th>\n",
       "      <th>triads_inv</th>\n",
       "    </tr>\n",
       "  </thead>\n",
       "  <tbody>\n",
       "    <tr>\n",
       "      <th>0</th>\n",
       "      <td>0.773326</td>\n",
       "      <td>0.693663</td>\n",
       "      <td>0.828056</td>\n",
       "      <td>0.802215</td>\n",
       "      <td>0.716502</td>\n",
       "      <td>0.631769</td>\n",
       "      <td>0.661328</td>\n",
       "      <td>0.58326</td>\n",
       "      <td>0.773725</td>\n",
       "      <td>0.693663</td>\n",
       "      <td>0.773326</td>\n",
       "      <td>0.693663</td>\n",
       "    </tr>\n",
       "  </tbody>\n",
       "</table>\n",
       "</div>"
      ],
      "text/plain": [
       "     majmin  majmin_inv     mirex      root  sevenths  sevenths_inv   tetrads  \\\n",
       "0  0.773326    0.693663  0.828056  0.802215  0.716502      0.631769  0.661328   \n",
       "\n",
       "   tetrads_inv    thirds  thirds_inv    triads  triads_inv  \n",
       "0      0.58326  0.773725    0.693663  0.773326    0.693663  "
      ]
     },
     "execution_count": 215,
     "metadata": {},
     "output_type": "execute_result"
    }
   ],
   "source": [
    "pd.DataFrame.from_dict(dict(jams.eval.chord(ref_jam.annotations[0], ann2_inv)), orient='index').T.sort_index(axis=1)"
   ]
  },
  {
   "cell_type": "code",
   "execution_count": 218,
   "metadata": {},
   "outputs": [
    {
     "data": {
      "text/html": [
       "<div>\n",
       "<style>\n",
       "    .dataframe thead tr:only-child th {\n",
       "        text-align: right;\n",
       "    }\n",
       "\n",
       "    .dataframe thead th {\n",
       "        text-align: left;\n",
       "    }\n",
       "\n",
       "    .dataframe tbody tr th {\n",
       "        vertical-align: top;\n",
       "    }\n",
       "</style>\n",
       "<table border=\"1\" class=\"dataframe\">\n",
       "  <thead>\n",
       "    <tr style=\"text-align: right;\">\n",
       "      <th></th>\n",
       "      <th>majmin</th>\n",
       "      <th>majmin_inv</th>\n",
       "      <th>mirex</th>\n",
       "      <th>root</th>\n",
       "      <th>sevenths</th>\n",
       "      <th>sevenths_inv</th>\n",
       "      <th>tetrads</th>\n",
       "      <th>tetrads_inv</th>\n",
       "      <th>thirds</th>\n",
       "      <th>thirds_inv</th>\n",
       "      <th>triads</th>\n",
       "      <th>triads_inv</th>\n",
       "    </tr>\n",
       "  </thead>\n",
       "  <tbody>\n",
       "    <tr>\n",
       "      <th>0</th>\n",
       "      <td>0.78169</td>\n",
       "      <td>0.641576</td>\n",
       "      <td>0.809598</td>\n",
       "      <td>0.78169</td>\n",
       "      <td>0.370845</td>\n",
       "      <td>0.252472</td>\n",
       "      <td>0.341668</td>\n",
       "      <td>0.232609</td>\n",
       "      <td>0.78169</td>\n",
       "      <td>0.641576</td>\n",
       "      <td>0.78169</td>\n",
       "      <td>0.641576</td>\n",
       "    </tr>\n",
       "  </tbody>\n",
       "</table>\n",
       "</div>"
      ],
      "text/plain": [
       "    majmin  majmin_inv     mirex     root  sevenths  sevenths_inv   tetrads  \\\n",
       "0  0.78169    0.641576  0.809598  0.78169  0.370845      0.252472  0.341668   \n",
       "\n",
       "   tetrads_inv   thirds  thirds_inv   triads  triads_inv  \n",
       "0     0.232609  0.78169    0.641576  0.78169    0.641576  "
      ]
     },
     "execution_count": 218,
     "metadata": {},
     "output_type": "execute_result"
    }
   ],
   "source": [
    "pd.DataFrame.from_dict(dict(jams.eval.chord(ref_jam.annotations[0], madmom_jam.annotations[0])), orient='index').T.sort_index(axis=1)"
   ]
  },
  {
   "cell_type": "code",
   "execution_count": 216,
   "metadata": {},
   "outputs": [
    {
     "data": {
      "text/html": [
       "<div>\n",
       "<style>\n",
       "    .dataframe thead tr:only-child th {\n",
       "        text-align: right;\n",
       "    }\n",
       "\n",
       "    .dataframe thead th {\n",
       "        text-align: left;\n",
       "    }\n",
       "\n",
       "    .dataframe tbody tr th {\n",
       "        vertical-align: top;\n",
       "    }\n",
       "</style>\n",
       "<table border=\"1\" class=\"dataframe\">\n",
       "  <thead>\n",
       "    <tr style=\"text-align: right;\">\n",
       "      <th></th>\n",
       "      <th>majmin</th>\n",
       "      <th>majmin_inv</th>\n",
       "      <th>mirex</th>\n",
       "      <th>root</th>\n",
       "      <th>sevenths</th>\n",
       "      <th>sevenths_inv</th>\n",
       "      <th>tetrads</th>\n",
       "      <th>tetrads_inv</th>\n",
       "      <th>thirds</th>\n",
       "      <th>thirds_inv</th>\n",
       "      <th>triads</th>\n",
       "      <th>triads_inv</th>\n",
       "    </tr>\n",
       "  </thead>\n",
       "  <tbody>\n",
       "    <tr>\n",
       "      <th>0</th>\n",
       "      <td>0.427286</td>\n",
       "      <td>0.361316</td>\n",
       "      <td>0.608117</td>\n",
       "      <td>0.427286</td>\n",
       "      <td>0.363114</td>\n",
       "      <td>0.291511</td>\n",
       "      <td>0.389464</td>\n",
       "      <td>0.323494</td>\n",
       "      <td>0.427286</td>\n",
       "      <td>0.361316</td>\n",
       "      <td>0.427286</td>\n",
       "      <td>0.361316</td>\n",
       "    </tr>\n",
       "  </tbody>\n",
       "</table>\n",
       "</div>"
      ],
      "text/plain": [
       "     majmin  majmin_inv     mirex      root  sevenths  sevenths_inv   tetrads  \\\n",
       "0  0.427286    0.361316  0.608117  0.427286  0.363114      0.291511  0.389464   \n",
       "\n",
       "   tetrads_inv    thirds  thirds_inv    triads  triads_inv  \n",
       "0     0.323494  0.427286    0.361316  0.427286    0.361316  "
      ]
     },
     "execution_count": 216,
     "metadata": {},
     "output_type": "execute_result"
    }
   ],
   "source": [
    "pd.DataFrame.from_dict(dict(jams.eval.chord(ref_jam.annotations[0], chordino_jam.annotations[0])), orient='index').T.sort_index(axis=1)"
   ]
  }
 ],
 "metadata": {
  "kernelspec": {
   "display_name": "Python 3.5",
   "language": "python",
   "name": "python3.5"
  },
  "language_info": {
   "codemirror_mode": {
    "name": "ipython",
    "version": 3
   },
   "file_extension": ".py",
   "mimetype": "text/x-python",
   "name": "python",
   "nbconvert_exporter": "python",
   "pygments_lexer": "ipython3",
   "version": "3.5.4"
  }
 },
 "nbformat": 4,
 "nbformat_minor": 2
}
