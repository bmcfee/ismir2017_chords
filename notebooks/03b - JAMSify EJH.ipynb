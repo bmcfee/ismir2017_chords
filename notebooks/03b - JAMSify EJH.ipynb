{
 "cells": [
  {
   "cell_type": "code",
   "execution_count": 1,
   "metadata": {
    "collapsed": true
   },
   "outputs": [],
   "source": [
    "import jams\n",
    "import json"
   ]
  },
  {
   "cell_type": "code",
   "execution_count": 17,
   "metadata": {
    "collapsed": true
   },
   "outputs": [],
   "source": [
    "from tqdm import tqdm_notebook as tqdm"
   ]
  },
  {
   "cell_type": "code",
   "execution_count": 12,
   "metadata": {
    "collapsed": true
   },
   "outputs": [],
   "source": [
    "def fix_duration(jam):\n",
    "    \n",
    "    ann = jam.annotations[0]\n",
    "    duration = ann.data[-1].time + ann.data[-1].duration\n",
    "    jam.file_metadata.duration = duration\n",
    "    "
   ]
  },
  {
   "cell_type": "code",
   "execution_count": 22,
   "metadata": {},
   "outputs": [
    {
     "name": "stdout",
     "output_type": "stream",
     "text": [
      "\n",
      "\n"
     ]
    }
   ],
   "source": [
    "!mkdir -p /home/bmcfee/git/ismir2017_chords/data/ejh2015_dnn/predictions\n",
    "!mkdir -p /home/bmcfee/git/ismir2017_chords/data/ejh2015_khmm/predictions"
   ]
  },
  {
   "cell_type": "code",
   "execution_count": 23,
   "metadata": {
    "collapsed": true
   },
   "outputs": [],
   "source": [
    "preds = json.load(open('/home/bmcfee/git/ace-lessons/data/chord_dataset/annotations/DNN/test.jv2', 'r'))"
   ]
  },
  {
   "cell_type": "code",
   "execution_count": null,
   "metadata": {},
   "outputs": [
    {
     "data": {
      "application/vnd.jupyter.widget-view+json": {
       "model_id": "883f4ac526c84fd18a42405466ddee41",
       "version_major": 2,
       "version_minor": 0
      },
      "text/plain": [
       "A Jupyter Widget"
      ]
     },
     "metadata": {},
     "output_type": "display_data"
    },
    {
     "name": "stdout",
     "output_type": "stream",
     "text": [
      "\r",
      "          \r",
      "737/|/ 61%|| 737/1217 [01:10<00:45, 10.51it/s]\n"
     ]
    }
   ],
   "source": [
    "for tid in tqdm(preds):\n",
    "    J = jams.JAMS(**preds[tid])\n",
    "    fix_duration(J)\n",
    "    J.save('/home/bmcfee/git/ismir2017_chords/data/ejh2015_dnn/predictions/{}.jams'.format(tid))"
   ]
  },
  {
   "cell_type": "code",
   "execution_count": null,
   "metadata": {
    "collapsed": true
   },
   "outputs": [],
   "source": [
    "preds = json.load(open('/home/bmcfee/git/ace-lessons/data/chord_dataset/annotations/kHMM/test.jv2', 'r'))"
   ]
  },
  {
   "cell_type": "code",
   "execution_count": null,
   "metadata": {},
   "outputs": [],
   "source": [
    "for tid in tqdm(preds):\n",
    "    J = jams.JAMS(**preds[tid])\n",
    "    fix_duration(J)\n",
    "    J.save('/home/bmcfee/git/ismir2017_chords/data/ejh2015_khmm/predictions/{}.jams'.format(tid))"
   ]
  },
  {
   "cell_type": "code",
   "execution_count": null,
   "metadata": {
    "collapsed": true
   },
   "outputs": [],
   "source": []
  }
 ],
 "metadata": {
  "kernelspec": {
   "display_name": "Python 3.5",
   "language": "python",
   "name": "python3.5"
  },
  "language_info": {
   "codemirror_mode": {
    "name": "ipython",
    "version": 3
   },
   "file_extension": ".py",
   "mimetype": "text/x-python",
   "name": "python",
   "nbconvert_exporter": "python",
   "pygments_lexer": "ipython3",
   "version": "3.5.4"
  }
 },
 "nbformat": 4,
 "nbformat_minor": 2
}
