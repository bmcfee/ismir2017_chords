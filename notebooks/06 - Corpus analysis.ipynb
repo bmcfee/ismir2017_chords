{
 "cells": [
  {
   "cell_type": "markdown",
   "metadata": {},
   "source": [
    "# What's the effective vocabulary size with inversions?\n",
    "\n",
    "- min : 3  (1, b3, 5)\n",
    "- maj : 3  (1, 3, 5)\n",
    "- dim : 3  (1, b3, b5)\n",
    "- aug : 3  (1, 3, #5)\n",
    "- min7 : 4 (1, b3, 5, b7)\n",
    "- maj7 : 4 (1, 3, 5, 7)\n",
    "- dom7 : 4 (1, 3, 5, b7)\n",
    "- dim7 : 4 (1, b3, b5, b7)\n",
    "- hdim7 : 4 (1, b3, b5, 7)\n",
    "- minmaj7 : 4 (1, b3, 5, 7)\n",
    "- min6 : 4 (1, b3, 5, 6)\n",
    "- maj6 : 4 (1, 3, 5, 6)\n",
    "- sus2 : 3 (1, 2, 5)\n",
    "- sus4 : 3 (1, 4, 5)\n",
    "- X : 1\n",
    "- N : 1\n",
    "\n",
    "- Without inversions: $12 * (4 + 6 + 2 + 2) + 2 = 170$\n",
    "- With inversions: $12 * (3 * 4 + 4 * 6 + 4 * 2 + 3 * 2) + 2 = 602$"
   ]
  },
  {
   "cell_type": "code",
   "execution_count": 33,
   "metadata": {
    "collapsed": true
   },
   "outputs": [],
   "source": [
    "import os\n",
    "import jams\n",
    "from tqdm import tqdm_notebook as tqdm\n",
    "import pandas as pd\n",
    "from joblib import Parallel, delayed"
   ]
  },
  {
   "cell_type": "code",
   "execution_count": 6,
   "metadata": {
    "collapsed": true
   },
   "outputs": [],
   "source": [
    "def getid(fname):\n",
    "    return os.path.splitext(os.path.basename(fname))[0]"
   ]
  },
  {
   "cell_type": "code",
   "execution_count": 85,
   "metadata": {},
   "outputs": [],
   "source": [
    "def compare(ref_file, est_file, corpus):\n",
    "    \n",
    "    ref_jam = jams.load(ref_file, validate=False)\n",
    "    est_jam = jams.load(est_file, validate=False)\n",
    "    \n",
    "    ref_ann = ref_jam.search(corpus=corpus)[0]\n",
    "    est_ann = est_jam.annotations[0]\n",
    "    est_ann = est_ann.trim(0, ref_ann.data[-1].time + ref_ann.data[-1].duration)\n",
    "    \n",
    "    results = jams.eval.chord(ref_ann, est_ann)\n",
    "    \n",
    "    return {getid(est_file): dict(results)}"
   ]
  },
  {
   "cell_type": "code",
   "execution_count": 72,
   "metadata": {
    "collapsed": true
   },
   "outputs": [],
   "source": [
    "def eval_model(ids, corpus, path):\n",
    "    \n",
    "    results = {}\n",
    "    for tid in tqdm(ids):\n",
    "        try:\n",
    "            ref_file = os.path.join(REF_PATH, os.path.extsep.join([tid, 'jams']))\n",
    "            est_file = os.path.join(path, os.path.extsep.join([tid, 'jams']))\n",
    "            results.update(compare(ref_file, est_file, corpus))\n",
    "        except ValueError as exc:\n",
    "            print('Failure at track {}'.format(est_file))\n",
    "            print(exc)\n",
    "            \n",
    "    return pd.DataFrame.from_dict(results, orient='index').sort_index(axis=1)"
   ]
  },
  {
   "cell_type": "code",
   "execution_count": 36,
   "metadata": {
    "collapsed": true
   },
   "outputs": [],
   "source": [
    "REF_PATH = '/home/bmcfee/data/eric_chords/references_v2/'"
   ]
  },
  {
   "cell_type": "code",
   "execution_count": 37,
   "metadata": {
    "collapsed": true
   },
   "outputs": [],
   "source": [
    "# MARL-mir analysis\n",
    "marl_ids = pd.read_csv('/home/bmcfee/git/ace-lessons/data/chord_dataset/marl-chords.csv', squeeze=True, header=None)\n",
    "marl_corp = 'MARL-Chords'"
   ]
  },
  {
   "cell_type": "code",
   "execution_count": 51,
   "metadata": {},
   "outputs": [
    {
     "data": {
      "application/vnd.jupyter.widget-view+json": {
       "model_id": "0bce81080be34a92b2e5eb72acc5222d",
       "version_major": 2,
       "version_minor": 0
      },
      "text/plain": [
       "A Jupyter Widget"
      ]
     },
     "metadata": {},
     "output_type": "display_data"
    },
    {
     "name": "stdout",
     "output_type": "stream",
     "text": [
      "\n",
      "\n"
     ]
    }
   ],
   "source": [
    "marl_cr2si = eval_model(marl_ids, marl_corp, '/home/bmcfee/git/ismir2017_chords/data/model_deep_struct_aug/predictions-inv/')"
   ]
  },
  {
   "cell_type": "code",
   "execution_count": 86,
   "metadata": {},
   "outputs": [
    {
     "data": {
      "application/vnd.jupyter.widget-view+json": {
       "model_id": "218dc85641cc49f7a84d450110218212",
       "version_major": 2,
       "version_minor": 0
      },
      "text/plain": [
       "A Jupyter Widget"
      ]
     },
     "metadata": {},
     "output_type": "display_data"
    },
    {
     "name": "stderr",
     "output_type": "stream",
     "text": [
      "/home/bmcfee/git/jams/jams/core.py:876: UserWarning: Annotation.duration is not defined, cannot check for temporal intersection, assuming the annotation is valid between start_time and end_time.\n",
      "  \"Annotation.duration is not defined, cannot check \"\n"
     ]
    },
    {
     "name": "stdout",
     "output_type": "stream",
     "text": [
      "\n"
     ]
    }
   ],
   "source": [
    "marl_cr2s = eval_model(marl_ids, marl_corp, '/home/bmcfee/git/ismir2017_chords/data/model_deep_struct_aug/predictions/')"
   ]
  },
  {
   "cell_type": "code",
   "execution_count": 52,
   "metadata": {
    "scrolled": true
   },
   "outputs": [
    {
     "data": {
      "application/vnd.jupyter.widget-view+json": {
       "model_id": "1128aee89ec7427e880e440bcfa3edd1",
       "version_major": 2,
       "version_minor": 0
      },
      "text/plain": [
       "A Jupyter Widget"
      ]
     },
     "metadata": {},
     "output_type": "display_data"
    },
    {
     "name": "stdout",
     "output_type": "stream",
     "text": [
      "\n"
     ]
    }
   ],
   "source": [
    "marl_cr2 = eval_model(marl_ids, marl_corp, '/home/bmcfee/git/ismir2017_chords/data/model_deep_aug/predictions/')"
   ]
  },
  {
   "cell_type": "code",
   "execution_count": 53,
   "metadata": {},
   "outputs": [
    {
     "data": {
      "application/vnd.jupyter.widget-view+json": {
       "model_id": "595667ed3e7844d88621b3f368ef8be0",
       "version_major": 2,
       "version_minor": 0
      },
      "text/plain": [
       "A Jupyter Widget"
      ]
     },
     "metadata": {},
     "output_type": "display_data"
    },
    {
     "name": "stdout",
     "output_type": "stream",
     "text": [
      "\n"
     ]
    }
   ],
   "source": [
    "marl_cr1si = eval_model(marl_ids, marl_corp, '/home/bmcfee/git/ismir2017_chords/data/model_struct_aug/predictions-inv/')"
   ]
  },
  {
   "cell_type": "code",
   "execution_count": 57,
   "metadata": {
    "scrolled": true
   },
   "outputs": [
    {
     "data": {
      "application/vnd.jupyter.widget-view+json": {
       "model_id": "7f0a6fdacc1d40b58644766aad131156",
       "version_major": 2,
       "version_minor": 0
      },
      "text/plain": [
       "A Jupyter Widget"
      ]
     },
     "metadata": {},
     "output_type": "display_data"
    },
    {
     "name": "stdout",
     "output_type": "stream",
     "text": [
      "\n"
     ]
    }
   ],
   "source": [
    "marl_cr1s = eval_model(marl_ids, marl_corp, '/home/bmcfee/git/ismir2017_chords/data/model_struct_aug/predictions/')"
   ]
  },
  {
   "cell_type": "code",
   "execution_count": 54,
   "metadata": {},
   "outputs": [
    {
     "data": {
      "application/vnd.jupyter.widget-view+json": {
       "model_id": "52b6942c25c4425bb9d59f6436add499",
       "version_major": 2,
       "version_minor": 0
      },
      "text/plain": [
       "A Jupyter Widget"
      ]
     },
     "metadata": {},
     "output_type": "display_data"
    },
    {
     "name": "stdout",
     "output_type": "stream",
     "text": [
      "\n"
     ]
    }
   ],
   "source": [
    "marl_cr1 = eval_model(marl_ids, marl_corp, '/home/bmcfee/git/ismir2017_chords/data/model_aug/predictions/')"
   ]
  },
  {
   "cell_type": "code",
   "execution_count": 61,
   "metadata": {},
   "outputs": [
    {
     "data": {
      "application/vnd.jupyter.widget-view+json": {
       "model_id": "ea56da80208249c3a3bcaf17efc61aca",
       "version_major": 2,
       "version_minor": 0
      },
      "text/plain": [
       "A Jupyter Widget"
      ]
     },
     "metadata": {},
     "output_type": "display_data"
    },
    {
     "name": "stdout",
     "output_type": "stream",
     "text": [
      "\n"
     ]
    }
   ],
   "source": [
    "marl_chordino = eval_model(marl_ids, marl_corp, '/home/bmcfee/git/ismir2017_chords/data/chordino/')"
   ]
  },
  {
   "cell_type": "code",
   "execution_count": 66,
   "metadata": {},
   "outputs": [
    {
     "data": {
      "application/vnd.jupyter.widget-view+json": {
       "model_id": "47a62caeb5ab4dceb0601ec6f473fdd0",
       "version_major": 2,
       "version_minor": 0
      },
      "text/plain": [
       "A Jupyter Widget"
      ]
     },
     "metadata": {},
     "output_type": "display_data"
    },
    {
     "name": "stdout",
     "output_type": "stream",
     "text": [
      "\n"
     ]
    }
   ],
   "source": [
    "marl_dnn = eval_model(marl_ids, marl_corp, '/home/bmcfee/git/ismir2017_chords/data/ejh2015_dnn/predictions/')"
   ]
  },
  {
   "cell_type": "code",
   "execution_count": 92,
   "metadata": {},
   "outputs": [
    {
     "data": {
      "application/vnd.jupyter.widget-view+json": {
       "model_id": "acf268bf474348f0b0e0aa40b4afb217",
       "version_major": 2,
       "version_minor": 0
      },
      "text/plain": [
       "A Jupyter Widget"
      ]
     },
     "metadata": {},
     "output_type": "display_data"
    },
    {
     "name": "stderr",
     "output_type": "stream",
     "text": [
      "/home/bmcfee/git/jams/jams/core.py:876: UserWarning: Annotation.duration is not defined, cannot check for temporal intersection, assuming the annotation is valid between start_time and end_time.\n",
      "  \"Annotation.duration is not defined, cannot check \"\n"
     ]
    },
    {
     "name": "stdout",
     "output_type": "stream",
     "text": [
      "\n"
     ]
    }
   ],
   "source": [
    "marl_khmm = eval_model(marl_ids, marl_corp, '/home/bmcfee/git/ismir2017_chords/data/ejh2015_khmm/predictions/')"
   ]
  },
  {
   "cell_type": "code",
   "execution_count": 93,
   "metadata": {
    "collapsed": true
   },
   "outputs": [],
   "source": [
    "marl_chordino.to_json('/home/bmcfee/git/ismir2017_chords/data/marl_chordino.json')\n",
    "marl_dnn.to_json('/home/bmcfee/git/ismir2017_chords/data/marl_dnn.json')\n",
    "marl_khmm.to_json('/home/bmcfee/git/ismir2017_chords/data/marl_khmm.json')\n",
    "\n",
    "marl_cr1.to_json('/home/bmcfee/git/ismir2017_chords/data/marl_cr1.json')\n",
    "marl_cr1s.to_json('/home/bmcfee/git/ismir2017_chords/data/marl_cr1s.json')\n",
    "marl_cr1si.to_json('/home/bmcfee/git/ismir2017_chords/data/marl_cr1si.json')\n",
    "\n",
    "marl_cr2.to_json('/home/bmcfee/git/ismir2017_chords/data/marl_cr2.json')\n",
    "marl_cr2s.to_json('/home/bmcfee/git/ismir2017_chords/data/marl_cr2s.json')\n",
    "marl_cr2si.to_json('/home/bmcfee/git/ismir2017_chords/data/marl_cr2si.json')\n"
   ]
  },
  {
   "cell_type": "code",
   "execution_count": 18,
   "metadata": {
    "collapsed": true
   },
   "outputs": [],
   "source": [
    "# Isophonics\n",
    "iso_ids = pd.read_csv('/home/bmcfee/git/ace-lessons/data/chord_dataset/isophonics.csv', squeeze=True, header=None)\n",
    "iso_corp = 'Isophonics'"
   ]
  },
  {
   "cell_type": "code",
   "execution_count": 97,
   "metadata": {},
   "outputs": [
    {
     "data": {
      "application/vnd.jupyter.widget-view+json": {
       "model_id": "1baa73d8f1224a10b92eb47d69f14e94",
       "version_major": 2,
       "version_minor": 0
      },
      "text/plain": [
       "A Jupyter Widget"
      ]
     },
     "metadata": {},
     "output_type": "display_data"
    },
    {
     "name": "stderr",
     "output_type": "stream",
     "text": [
      "/home/bmcfee/git/jams/jams/core.py:876: UserWarning: Annotation.duration is not defined, cannot check for temporal intersection, assuming the annotation is valid between start_time and end_time.\n",
      "  \"Annotation.duration is not defined, cannot check \"\n"
     ]
    },
    {
     "name": "stdout",
     "output_type": "stream",
     "text": [
      "\n"
     ]
    },
    {
     "data": {
      "application/vnd.jupyter.widget-view+json": {
       "model_id": "47d3214f586c4b77bf61829b484592b7",
       "version_major": 2,
       "version_minor": 0
      },
      "text/plain": [
       "A Jupyter Widget"
      ]
     },
     "metadata": {},
     "output_type": "display_data"
    },
    {
     "name": "stdout",
     "output_type": "stream",
     "text": [
      "\n"
     ]
    },
    {
     "data": {
      "application/vnd.jupyter.widget-view+json": {
       "model_id": "544af1e50d5841cc82bb7459341a3c22",
       "version_major": 2,
       "version_minor": 0
      },
      "text/plain": [
       "A Jupyter Widget"
      ]
     },
     "metadata": {},
     "output_type": "display_data"
    },
    {
     "name": "stdout",
     "output_type": "stream",
     "text": [
      "\n"
     ]
    },
    {
     "data": {
      "application/vnd.jupyter.widget-view+json": {
       "model_id": "01617ad1a97742c0b599ecafe54eeb64",
       "version_major": 2,
       "version_minor": 0
      },
      "text/plain": [
       "A Jupyter Widget"
      ]
     },
     "metadata": {},
     "output_type": "display_data"
    },
    {
     "name": "stdout",
     "output_type": "stream",
     "text": [
      "\n"
     ]
    },
    {
     "data": {
      "application/vnd.jupyter.widget-view+json": {
       "model_id": "471fc7059ff4485a9c2350a9ee861d59",
       "version_major": 2,
       "version_minor": 0
      },
      "text/plain": [
       "A Jupyter Widget"
      ]
     },
     "metadata": {},
     "output_type": "display_data"
    },
    {
     "name": "stdout",
     "output_type": "stream",
     "text": [
      "\n"
     ]
    },
    {
     "data": {
      "application/vnd.jupyter.widget-view+json": {
       "model_id": "a660f3f92d0f4ce3a3d16b5465786c07",
       "version_major": 2,
       "version_minor": 0
      },
      "text/plain": [
       "A Jupyter Widget"
      ]
     },
     "metadata": {},
     "output_type": "display_data"
    },
    {
     "name": "stdout",
     "output_type": "stream",
     "text": [
      "\n"
     ]
    },
    {
     "data": {
      "application/vnd.jupyter.widget-view+json": {
       "model_id": "ddb051165ad7497dbc799494f87c16f5",
       "version_major": 2,
       "version_minor": 0
      },
      "text/plain": [
       "A Jupyter Widget"
      ]
     },
     "metadata": {},
     "output_type": "display_data"
    },
    {
     "name": "stdout",
     "output_type": "stream",
     "text": [
      "\n"
     ]
    },
    {
     "data": {
      "application/vnd.jupyter.widget-view+json": {
       "model_id": "e3af929e6cd34441b15a2d454a53fc52",
       "version_major": 2,
       "version_minor": 0
      },
      "text/plain": [
       "A Jupyter Widget"
      ]
     },
     "metadata": {},
     "output_type": "display_data"
    },
    {
     "name": "stdout",
     "output_type": "stream",
     "text": [
      "\n"
     ]
    },
    {
     "data": {
      "application/vnd.jupyter.widget-view+json": {
       "model_id": "12c5db732feb4106b6f8430f1b6fd3bb",
       "version_major": 2,
       "version_minor": 0
      },
      "text/plain": [
       "A Jupyter Widget"
      ]
     },
     "metadata": {},
     "output_type": "display_data"
    },
    {
     "name": "stdout",
     "output_type": "stream",
     "text": [
      "\n"
     ]
    }
   ],
   "source": [
    "iso_cr2si = eval_model(iso_ids, iso_corp, '/home/bmcfee/git/ismir2017_chords/data/model_deep_struct_aug/predictions-inv/')\n",
    "\n",
    "iso_cr2s = eval_model(iso_ids, iso_corp, '/home/bmcfee/git/ismir2017_chords/data/model_deep_struct_aug/predictions/')\n",
    "\n",
    "iso_cr2 = eval_model(iso_ids, iso_corp, '/home/bmcfee/git/ismir2017_chords/data/model_deep_aug/predictions/')\n",
    "\n",
    "iso_cr1si = eval_model(iso_ids, iso_corp, '/home/bmcfee/git/ismir2017_chords/data/model_struct_aug/predictions-inv/')\n",
    "\n",
    "iso_cr1s = eval_model(iso_ids, iso_corp, '/home/bmcfee/git/ismir2017_chords/data/model_struct_aug/predictions/')\n",
    "\n",
    "iso_cr1 = eval_model(iso_ids, iso_corp, '/home/bmcfee/git/ismir2017_chords/data/model_aug/predictions/')\n",
    "\n",
    "iso_chordino = eval_model(iso_ids, iso_corp, '/home/bmcfee/git/ismir2017_chords/data/chordino/')\n",
    "\n",
    "iso_dnn = eval_model(iso_ids, iso_corp, '/home/bmcfee/git/ismir2017_chords/data/ejh2015_dnn/predictions/')\n",
    "\n",
    "iso_khmm = eval_model(iso_ids, iso_corp, '/home/bmcfee/git/ismir2017_chords/data/ejh2015_khmm/predictions/')"
   ]
  },
  {
   "cell_type": "code",
   "execution_count": 98,
   "metadata": {
    "collapsed": true
   },
   "outputs": [],
   "source": [
    "iso_chordino.to_json('/home/bmcfee/git/ismir2017_chords/data/iso_chordino.json')\n",
    "iso_dnn.to_json('/home/bmcfee/git/ismir2017_chords/data/iso_dnn.json')\n",
    "iso_khmm.to_json('/home/bmcfee/git/ismir2017_chords/data/iso_khmm.json')\n",
    "\n",
    "iso_cr1.to_json('/home/bmcfee/git/ismir2017_chords/data/iso_cr1.json')\n",
    "iso_cr1s.to_json('/home/bmcfee/git/ismir2017_chords/data/iso_cr1s.json')\n",
    "iso_cr1si.to_json('/home/bmcfee/git/ismir2017_chords/data/iso_cr1si.json')\n",
    "\n",
    "iso_cr2.to_json('/home/bmcfee/git/ismir2017_chords/data/iso_cr2.json')\n",
    "iso_cr2s.to_json('/home/bmcfee/git/ismir2017_chords/data/iso_cr2s.json')\n",
    "iso_cr2si.to_json('/home/bmcfee/git/ismir2017_chords/data/iso_cr2si.json')\n"
   ]
  },
  {
   "cell_type": "code",
   "execution_count": 100,
   "metadata": {
    "collapsed": true
   },
   "outputs": [],
   "source": [
    "# Billboard analysis\n",
    "bb_ids = pd.read_csv('/home/bmcfee/git/ace-lessons/data/chord_dataset/billboard.csv', squeeze=True, header=None)\n",
    "bb_corp = 'Billboard-Chords'"
   ]
  },
  {
   "cell_type": "code",
   "execution_count": 101,
   "metadata": {},
   "outputs": [
    {
     "data": {
      "application/vnd.jupyter.widget-view+json": {
       "model_id": "087c88ce1467408fb84cfd7ffd05d6bf",
       "version_major": 2,
       "version_minor": 0
      },
      "text/plain": [
       "A Jupyter Widget"
      ]
     },
     "metadata": {},
     "output_type": "display_data"
    },
    {
     "name": "stderr",
     "output_type": "stream",
     "text": [
      "/home/bmcfee/git/jams/jams/core.py:876: UserWarning: Annotation.duration is not defined, cannot check for temporal intersection, assuming the annotation is valid between start_time and end_time.\n",
      "  \"Annotation.duration is not defined, cannot check \"\n"
     ]
    },
    {
     "name": "stdout",
     "output_type": "stream",
     "text": [
      "\n"
     ]
    },
    {
     "data": {
      "application/vnd.jupyter.widget-view+json": {
       "model_id": "05ff19d8efa743b98dc9ec890cd0ed0b",
       "version_major": 2,
       "version_minor": 0
      },
      "text/plain": [
       "A Jupyter Widget"
      ]
     },
     "metadata": {},
     "output_type": "display_data"
    },
    {
     "name": "stdout",
     "output_type": "stream",
     "text": [
      "\n"
     ]
    },
    {
     "data": {
      "application/vnd.jupyter.widget-view+json": {
       "model_id": "6fd7d434f56a43f99be16dd5dfad840c",
       "version_major": 2,
       "version_minor": 0
      },
      "text/plain": [
       "A Jupyter Widget"
      ]
     },
     "metadata": {},
     "output_type": "display_data"
    },
    {
     "name": "stdout",
     "output_type": "stream",
     "text": [
      "\n"
     ]
    },
    {
     "data": {
      "application/vnd.jupyter.widget-view+json": {
       "model_id": "3b80fdaf712c4479b11760cfca480f74",
       "version_major": 2,
       "version_minor": 0
      },
      "text/plain": [
       "A Jupyter Widget"
      ]
     },
     "metadata": {},
     "output_type": "display_data"
    },
    {
     "name": "stdout",
     "output_type": "stream",
     "text": [
      "\n"
     ]
    },
    {
     "data": {
      "application/vnd.jupyter.widget-view+json": {
       "model_id": "f83ed785635242fbaf207f30f33a09a9",
       "version_major": 2,
       "version_minor": 0
      },
      "text/plain": [
       "A Jupyter Widget"
      ]
     },
     "metadata": {},
     "output_type": "display_data"
    },
    {
     "name": "stdout",
     "output_type": "stream",
     "text": [
      "\n"
     ]
    },
    {
     "data": {
      "application/vnd.jupyter.widget-view+json": {
       "model_id": "c8f6ddfb543a41fbaa4321a24a0c1a8d",
       "version_major": 2,
       "version_minor": 0
      },
      "text/plain": [
       "A Jupyter Widget"
      ]
     },
     "metadata": {},
     "output_type": "display_data"
    },
    {
     "name": "stdout",
     "output_type": "stream",
     "text": [
      "\n"
     ]
    },
    {
     "data": {
      "application/vnd.jupyter.widget-view+json": {
       "model_id": "99fda988671a422e87a89826c7d2967c",
       "version_major": 2,
       "version_minor": 0
      },
      "text/plain": [
       "A Jupyter Widget"
      ]
     },
     "metadata": {},
     "output_type": "display_data"
    },
    {
     "name": "stdout",
     "output_type": "stream",
     "text": [
      "\n"
     ]
    },
    {
     "data": {
      "application/vnd.jupyter.widget-view+json": {
       "model_id": "c16418972944410ba0e6c6a87e63d644",
       "version_major": 2,
       "version_minor": 0
      },
      "text/plain": [
       "A Jupyter Widget"
      ]
     },
     "metadata": {},
     "output_type": "display_data"
    },
    {
     "name": "stdout",
     "output_type": "stream",
     "text": [
      "\n"
     ]
    },
    {
     "data": {
      "application/vnd.jupyter.widget-view+json": {
       "model_id": "54b30f97e2434e059eb0bac08299e594",
       "version_major": 2,
       "version_minor": 0
      },
      "text/plain": [
       "A Jupyter Widget"
      ]
     },
     "metadata": {},
     "output_type": "display_data"
    },
    {
     "name": "stdout",
     "output_type": "stream",
     "text": [
      "\n"
     ]
    }
   ],
   "source": [
    "bb_cr2si = eval_model(bb_ids, bb_corp, '/home/bmcfee/git/ismir2017_chords/data/model_deep_struct_aug/predictions-inv/')\n",
    "\n",
    "bb_cr2s = eval_model(bb_ids, bb_corp, '/home/bmcfee/git/ismir2017_chords/data/model_deep_struct_aug/predictions/')\n",
    "\n",
    "bb_cr2 = eval_model(bb_ids, bb_corp, '/home/bmcfee/git/ismir2017_chords/data/model_deep_aug/predictions/')\n",
    "\n",
    "bb_cr1si = eval_model(bb_ids, bb_corp, '/home/bmcfee/git/ismir2017_chords/data/model_struct_aug/predictions-inv/')\n",
    "\n",
    "bb_cr1s = eval_model(bb_ids, bb_corp, '/home/bmcfee/git/ismir2017_chords/data/model_struct_aug/predictions/')\n",
    "\n",
    "bb_cr1 = eval_model(bb_ids, bb_corp, '/home/bmcfee/git/ismir2017_chords/data/model_aug/predictions/')\n",
    "\n",
    "bb_chordino = eval_model(bb_ids, bb_corp, '/home/bmcfee/git/ismir2017_chords/data/chordino/')\n",
    "\n",
    "bb_dnn = eval_model(bb_ids, bb_corp, '/home/bmcfee/git/ismir2017_chords/data/ejh2015_dnn/predictions/')\n",
    "\n",
    "bb_khmm = eval_model(bb_ids, bb_corp, '/home/bmcfee/git/ismir2017_chords/data/ejh2015_khmm/predictions/')"
   ]
  },
  {
   "cell_type": "code",
   "execution_count": 102,
   "metadata": {
    "collapsed": true
   },
   "outputs": [],
   "source": [
    "bb_chordino.to_json('/home/bmcfee/git/ismir2017_chords/data/bb_chordino.json')\n",
    "bb_dnn.to_json('/home/bmcfee/git/ismir2017_chords/data/bb_dnn.json')\n",
    "bb_khmm.to_json('/home/bmcfee/git/ismir2017_chords/data/bb_khmm.json')\n",
    "\n",
    "bb_cr1.to_json('/home/bmcfee/git/ismir2017_chords/data/bb_cr1.json')\n",
    "bb_cr1s.to_json('/home/bmcfee/git/ismir2017_chords/data/bb_cr1s.json')\n",
    "bb_cr1si.to_json('/home/bmcfee/git/ismir2017_chords/data/bb_cr1si.json')\n",
    "\n",
    "bb_cr2.to_json('/home/bmcfee/git/ismir2017_chords/data/bb_cr2.json')\n",
    "bb_cr2s.to_json('/home/bmcfee/git/ismir2017_chords/data/bb_cr2s.json')\n",
    "bb_cr2si.to_json('/home/bmcfee/git/ismir2017_chords/data/bb_cr2si.json')\n"
   ]
  },
  {
   "cell_type": "code",
   "execution_count": 107,
   "metadata": {},
   "outputs": [
    {
     "data": {
      "text/html": [
       "<div>\n",
       "<style>\n",
       "    .dataframe thead tr:only-child th {\n",
       "        text-align: right;\n",
       "    }\n",
       "\n",
       "    .dataframe thead th {\n",
       "        text-align: left;\n",
       "    }\n",
       "\n",
       "    .dataframe tbody tr th {\n",
       "        vertical-align: top;\n",
       "    }\n",
       "</style>\n",
       "<table border=\"1\" class=\"dataframe\">\n",
       "  <thead>\n",
       "    <tr style=\"text-align: right;\">\n",
       "      <th></th>\n",
       "      <th>majmin</th>\n",
       "      <th>majmin_inv</th>\n",
       "      <th>mirex</th>\n",
       "      <th>root</th>\n",
       "      <th>sevenths</th>\n",
       "      <th>sevenths_inv</th>\n",
       "      <th>tetrads</th>\n",
       "      <th>tetrads_inv</th>\n",
       "      <th>thirds</th>\n",
       "      <th>thirds_inv</th>\n",
       "      <th>triads</th>\n",
       "      <th>triads_inv</th>\n",
       "    </tr>\n",
       "  </thead>\n",
       "  <tbody>\n",
       "    <tr>\n",
       "      <th>count</th>\n",
       "      <td>738.000000</td>\n",
       "      <td>738.000000</td>\n",
       "      <td>738.000000</td>\n",
       "      <td>738.000000</td>\n",
       "      <td>738.000000</td>\n",
       "      <td>738.000000</td>\n",
       "      <td>738.000000</td>\n",
       "      <td>738.000000</td>\n",
       "      <td>738.000000</td>\n",
       "      <td>738.000000</td>\n",
       "      <td>738.000000</td>\n",
       "      <td>738.000000</td>\n",
       "    </tr>\n",
       "    <tr>\n",
       "      <th>mean</th>\n",
       "      <td>0.797925</td>\n",
       "      <td>0.777841</td>\n",
       "      <td>0.802754</td>\n",
       "      <td>0.818529</td>\n",
       "      <td>0.671596</td>\n",
       "      <td>0.658024</td>\n",
       "      <td>0.617955</td>\n",
       "      <td>0.605756</td>\n",
       "      <td>0.780992</td>\n",
       "      <td>0.759269</td>\n",
       "      <td>0.746970</td>\n",
       "      <td>0.728710</td>\n",
       "    </tr>\n",
       "    <tr>\n",
       "      <th>std</th>\n",
       "      <td>0.172268</td>\n",
       "      <td>0.177999</td>\n",
       "      <td>0.152424</td>\n",
       "      <td>0.140904</td>\n",
       "      <td>0.205586</td>\n",
       "      <td>0.206759</td>\n",
       "      <td>0.220739</td>\n",
       "      <td>0.221504</td>\n",
       "      <td>0.172217</td>\n",
       "      <td>0.178817</td>\n",
       "      <td>0.197946</td>\n",
       "      <td>0.202027</td>\n",
       "    </tr>\n",
       "    <tr>\n",
       "      <th>min</th>\n",
       "      <td>0.025418</td>\n",
       "      <td>0.025418</td>\n",
       "      <td>0.025610</td>\n",
       "      <td>0.026430</td>\n",
       "      <td>0.018132</td>\n",
       "      <td>0.018132</td>\n",
       "      <td>0.006793</td>\n",
       "      <td>0.006793</td>\n",
       "      <td>0.023833</td>\n",
       "      <td>0.023833</td>\n",
       "      <td>0.006793</td>\n",
       "      <td>0.006793</td>\n",
       "    </tr>\n",
       "    <tr>\n",
       "      <th>25%</th>\n",
       "      <td>0.744448</td>\n",
       "      <td>0.709386</td>\n",
       "      <td>0.743646</td>\n",
       "      <td>0.760695</td>\n",
       "      <td>0.565208</td>\n",
       "      <td>0.552622</td>\n",
       "      <td>0.481067</td>\n",
       "      <td>0.473811</td>\n",
       "      <td>0.711529</td>\n",
       "      <td>0.680954</td>\n",
       "      <td>0.664886</td>\n",
       "      <td>0.633912</td>\n",
       "    </tr>\n",
       "    <tr>\n",
       "      <th>50%</th>\n",
       "      <td>0.848406</td>\n",
       "      <td>0.826679</td>\n",
       "      <td>0.842717</td>\n",
       "      <td>0.852393</td>\n",
       "      <td>0.719829</td>\n",
       "      <td>0.702318</td>\n",
       "      <td>0.665065</td>\n",
       "      <td>0.646081</td>\n",
       "      <td>0.827919</td>\n",
       "      <td>0.803653</td>\n",
       "      <td>0.805052</td>\n",
       "      <td>0.779911</td>\n",
       "    </tr>\n",
       "    <tr>\n",
       "      <th>75%</th>\n",
       "      <td>0.915057</td>\n",
       "      <td>0.905798</td>\n",
       "      <td>0.909802</td>\n",
       "      <td>0.916492</td>\n",
       "      <td>0.821496</td>\n",
       "      <td>0.809925</td>\n",
       "      <td>0.782425</td>\n",
       "      <td>0.772214</td>\n",
       "      <td>0.905982</td>\n",
       "      <td>0.894824</td>\n",
       "      <td>0.893645</td>\n",
       "      <td>0.882690</td>\n",
       "    </tr>\n",
       "    <tr>\n",
       "      <th>max</th>\n",
       "      <td>0.999719</td>\n",
       "      <td>0.999719</td>\n",
       "      <td>0.999719</td>\n",
       "      <td>0.999117</td>\n",
       "      <td>0.999719</td>\n",
       "      <td>0.999719</td>\n",
       "      <td>0.984466</td>\n",
       "      <td>0.984466</td>\n",
       "      <td>0.989286</td>\n",
       "      <td>0.989286</td>\n",
       "      <td>0.989286</td>\n",
       "      <td>0.989286</td>\n",
       "    </tr>\n",
       "  </tbody>\n",
       "</table>\n",
       "</div>"
      ],
      "text/plain": [
       "           majmin  majmin_inv       mirex        root    sevenths  \\\n",
       "count  738.000000  738.000000  738.000000  738.000000  738.000000   \n",
       "mean     0.797925    0.777841    0.802754    0.818529    0.671596   \n",
       "std      0.172268    0.177999    0.152424    0.140904    0.205586   \n",
       "min      0.025418    0.025418    0.025610    0.026430    0.018132   \n",
       "25%      0.744448    0.709386    0.743646    0.760695    0.565208   \n",
       "50%      0.848406    0.826679    0.842717    0.852393    0.719829   \n",
       "75%      0.915057    0.905798    0.909802    0.916492    0.821496   \n",
       "max      0.999719    0.999719    0.999719    0.999117    0.999719   \n",
       "\n",
       "       sevenths_inv     tetrads  tetrads_inv      thirds  thirds_inv  \\\n",
       "count    738.000000  738.000000   738.000000  738.000000  738.000000   \n",
       "mean       0.658024    0.617955     0.605756    0.780992    0.759269   \n",
       "std        0.206759    0.220739     0.221504    0.172217    0.178817   \n",
       "min        0.018132    0.006793     0.006793    0.023833    0.023833   \n",
       "25%        0.552622    0.481067     0.473811    0.711529    0.680954   \n",
       "50%        0.702318    0.665065     0.646081    0.827919    0.803653   \n",
       "75%        0.809925    0.782425     0.772214    0.905982    0.894824   \n",
       "max        0.999719    0.984466     0.984466    0.989286    0.989286   \n",
       "\n",
       "           triads  triads_inv  \n",
       "count  738.000000  738.000000  \n",
       "mean     0.746970    0.728710  \n",
       "std      0.197946    0.202027  \n",
       "min      0.006793    0.006793  \n",
       "25%      0.664886    0.633912  \n",
       "50%      0.805052    0.779911  \n",
       "75%      0.893645    0.882690  \n",
       "max      0.989286    0.989286  "
      ]
     },
     "execution_count": 107,
     "metadata": {},
     "output_type": "execute_result"
    }
   ],
   "source": [
    "bb_cr2si.describe()"
   ]
  },
  {
   "cell_type": "code",
   "execution_count": 109,
   "metadata": {},
   "outputs": [
    {
     "data": {
      "text/html": [
       "<div>\n",
       "<style>\n",
       "    .dataframe thead tr:only-child th {\n",
       "        text-align: right;\n",
       "    }\n",
       "\n",
       "    .dataframe thead th {\n",
       "        text-align: left;\n",
       "    }\n",
       "\n",
       "    .dataframe tbody tr th {\n",
       "        vertical-align: top;\n",
       "    }\n",
       "</style>\n",
       "<table border=\"1\" class=\"dataframe\">\n",
       "  <thead>\n",
       "    <tr style=\"text-align: right;\">\n",
       "      <th></th>\n",
       "      <th>majmin</th>\n",
       "      <th>majmin_inv</th>\n",
       "      <th>mirex</th>\n",
       "      <th>root</th>\n",
       "      <th>sevenths</th>\n",
       "      <th>sevenths_inv</th>\n",
       "      <th>tetrads</th>\n",
       "      <th>tetrads_inv</th>\n",
       "      <th>thirds</th>\n",
       "      <th>thirds_inv</th>\n",
       "      <th>triads</th>\n",
       "      <th>triads_inv</th>\n",
       "    </tr>\n",
       "  </thead>\n",
       "  <tbody>\n",
       "    <tr>\n",
       "      <th>count</th>\n",
       "      <td>738.000000</td>\n",
       "      <td>738.000000</td>\n",
       "      <td>738.000000</td>\n",
       "      <td>738.000000</td>\n",
       "      <td>738.000000</td>\n",
       "      <td>738.000000</td>\n",
       "      <td>738.000000</td>\n",
       "      <td>738.000000</td>\n",
       "      <td>738.000000</td>\n",
       "      <td>738.000000</td>\n",
       "      <td>738.000000</td>\n",
       "      <td>738.000000</td>\n",
       "    </tr>\n",
       "    <tr>\n",
       "      <th>mean</th>\n",
       "      <td>0.762479</td>\n",
       "      <td>0.739064</td>\n",
       "      <td>0.773405</td>\n",
       "      <td>0.796638</td>\n",
       "      <td>0.635168</td>\n",
       "      <td>0.616872</td>\n",
       "      <td>0.589807</td>\n",
       "      <td>0.573386</td>\n",
       "      <td>0.764016</td>\n",
       "      <td>0.739879</td>\n",
       "      <td>0.721274</td>\n",
       "      <td>0.700102</td>\n",
       "    </tr>\n",
       "    <tr>\n",
       "      <th>std</th>\n",
       "      <td>0.172426</td>\n",
       "      <td>0.179143</td>\n",
       "      <td>0.165483</td>\n",
       "      <td>0.157450</td>\n",
       "      <td>0.196366</td>\n",
       "      <td>0.199170</td>\n",
       "      <td>0.211100</td>\n",
       "      <td>0.213154</td>\n",
       "      <td>0.170281</td>\n",
       "      <td>0.177656</td>\n",
       "      <td>0.197513</td>\n",
       "      <td>0.202170</td>\n",
       "    </tr>\n",
       "    <tr>\n",
       "      <th>min</th>\n",
       "      <td>0.004911</td>\n",
       "      <td>0.004911</td>\n",
       "      <td>0.004911</td>\n",
       "      <td>0.004911</td>\n",
       "      <td>0.004911</td>\n",
       "      <td>0.004911</td>\n",
       "      <td>0.004911</td>\n",
       "      <td>0.004911</td>\n",
       "      <td>0.004911</td>\n",
       "      <td>0.004911</td>\n",
       "      <td>0.004911</td>\n",
       "      <td>0.004911</td>\n",
       "    </tr>\n",
       "    <tr>\n",
       "      <th>25%</th>\n",
       "      <td>0.698624</td>\n",
       "      <td>0.661413</td>\n",
       "      <td>0.713129</td>\n",
       "      <td>0.742862</td>\n",
       "      <td>0.539728</td>\n",
       "      <td>0.514947</td>\n",
       "      <td>0.469591</td>\n",
       "      <td>0.444049</td>\n",
       "      <td>0.696056</td>\n",
       "      <td>0.661316</td>\n",
       "      <td>0.643759</td>\n",
       "      <td>0.606200</td>\n",
       "    </tr>\n",
       "    <tr>\n",
       "      <th>50%</th>\n",
       "      <td>0.806293</td>\n",
       "      <td>0.777561</td>\n",
       "      <td>0.816213</td>\n",
       "      <td>0.834545</td>\n",
       "      <td>0.659567</td>\n",
       "      <td>0.639930</td>\n",
       "      <td>0.614937</td>\n",
       "      <td>0.599487</td>\n",
       "      <td>0.807019</td>\n",
       "      <td>0.780961</td>\n",
       "      <td>0.776540</td>\n",
       "      <td>0.746125</td>\n",
       "    </tr>\n",
       "    <tr>\n",
       "      <th>75%</th>\n",
       "      <td>0.882482</td>\n",
       "      <td>0.866837</td>\n",
       "      <td>0.885568</td>\n",
       "      <td>0.897166</td>\n",
       "      <td>0.777148</td>\n",
       "      <td>0.756984</td>\n",
       "      <td>0.743446</td>\n",
       "      <td>0.732469</td>\n",
       "      <td>0.881147</td>\n",
       "      <td>0.866139</td>\n",
       "      <td>0.864970</td>\n",
       "      <td>0.846247</td>\n",
       "    </tr>\n",
       "    <tr>\n",
       "      <th>max</th>\n",
       "      <td>0.985987</td>\n",
       "      <td>0.984107</td>\n",
       "      <td>0.986186</td>\n",
       "      <td>0.988760</td>\n",
       "      <td>0.984107</td>\n",
       "      <td>0.984107</td>\n",
       "      <td>0.968284</td>\n",
       "      <td>0.968284</td>\n",
       "      <td>0.986365</td>\n",
       "      <td>0.980920</td>\n",
       "      <td>0.986186</td>\n",
       "      <td>0.980920</td>\n",
       "    </tr>\n",
       "  </tbody>\n",
       "</table>\n",
       "</div>"
      ],
      "text/plain": [
       "           majmin  majmin_inv       mirex        root    sevenths  \\\n",
       "count  738.000000  738.000000  738.000000  738.000000  738.000000   \n",
       "mean     0.762479    0.739064    0.773405    0.796638    0.635168   \n",
       "std      0.172426    0.179143    0.165483    0.157450    0.196366   \n",
       "min      0.004911    0.004911    0.004911    0.004911    0.004911   \n",
       "25%      0.698624    0.661413    0.713129    0.742862    0.539728   \n",
       "50%      0.806293    0.777561    0.816213    0.834545    0.659567   \n",
       "75%      0.882482    0.866837    0.885568    0.897166    0.777148   \n",
       "max      0.985987    0.984107    0.986186    0.988760    0.984107   \n",
       "\n",
       "       sevenths_inv     tetrads  tetrads_inv      thirds  thirds_inv  \\\n",
       "count    738.000000  738.000000   738.000000  738.000000  738.000000   \n",
       "mean       0.616872    0.589807     0.573386    0.764016    0.739879   \n",
       "std        0.199170    0.211100     0.213154    0.170281    0.177656   \n",
       "min        0.004911    0.004911     0.004911    0.004911    0.004911   \n",
       "25%        0.514947    0.469591     0.444049    0.696056    0.661316   \n",
       "50%        0.639930    0.614937     0.599487    0.807019    0.780961   \n",
       "75%        0.756984    0.743446     0.732469    0.881147    0.866139   \n",
       "max        0.984107    0.968284     0.968284    0.986365    0.980920   \n",
       "\n",
       "           triads  triads_inv  \n",
       "count  738.000000  738.000000  \n",
       "mean     0.721274    0.700102  \n",
       "std      0.197513    0.202170  \n",
       "min      0.004911    0.004911  \n",
       "25%      0.643759    0.606200  \n",
       "50%      0.776540    0.746125  \n",
       "75%      0.864970    0.846247  \n",
       "max      0.986186    0.980920  "
      ]
     },
     "execution_count": 109,
     "metadata": {},
     "output_type": "execute_result"
    }
   ],
   "source": [
    "bb_khmm.describe()"
   ]
  }
 ],
 "metadata": {
  "kernelspec": {
   "display_name": "Python 3.5",
   "language": "python",
   "name": "python3.5"
  },
  "language_info": {
   "codemirror_mode": {
    "name": "ipython",
    "version": 3
   },
   "file_extension": ".py",
   "mimetype": "text/x-python",
   "name": "python",
   "nbconvert_exporter": "python",
   "pygments_lexer": "ipython3",
   "version": "3.5.4"
  }
 },
 "nbformat": 4,
 "nbformat_minor": 2
}
