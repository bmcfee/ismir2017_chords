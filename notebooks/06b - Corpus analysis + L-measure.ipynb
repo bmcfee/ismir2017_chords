{
 "cells": [
  {
   "cell_type": "code",
   "execution_count": 1,
   "metadata": {
    "collapsed": true
   },
   "outputs": [],
   "source": [
    "import os\n",
    "import jams\n",
    "from tqdm import tqdm_notebook as tqdm\n",
    "import pandas as pd\n",
    "from joblib import Parallel, delayed\n",
    "import mir_eval\n",
    "import pumpp"
   ]
  },
  {
   "cell_type": "code",
   "execution_count": 2,
   "metadata": {
    "collapsed": true
   },
   "outputs": [],
   "source": [
    "def getid(fname):\n",
    "    return os.path.splitext(os.path.basename(fname))[0]"
   ]
  },
  {
   "cell_type": "code",
   "execution_count": 3,
   "metadata": {
    "collapsed": true
   },
   "outputs": [],
   "source": [
    "def chord_to_hier(ann):\n",
    "        \n",
    "    C3 = pumpp.task.ChordTagTransformer(vocab='3')\n",
    "    C35 = pumpp.task.ChordTagTransformer(vocab='35')\n",
    "    C3567s = pumpp.task.ChordTagTransformer(vocab='3567s')\n",
    "    \n",
    "    ann_h = jams.Annotation('multi_segment',\n",
    "                            time=ann.time,\n",
    "                            duration=ann.duration,\n",
    "                            annotation_metadata=ann.annotation_metadata)\n",
    "    \n",
    "    for obs in ann:\n",
    "        root = C3.simplify(obs.value)\n",
    "        if ':' in root:\n",
    "            root = root[:root.index(':')]\n",
    "        ann_h.append(time=obs.time, duration=obs.duration,\n",
    "                    value=dict(level=1, label=root),\n",
    "                    confidence=obs.confidence)\n",
    "        \n",
    "        ann_h.append(time=obs.time, duration=obs.duration,\n",
    "                    value=dict(level=2, label=C3.simplify(obs.value)),\n",
    "                    confidence=obs.confidence)\n",
    "        ann_h.append(time=obs.time, duration=obs.duration,\n",
    "                    value=dict(level=3, label=C35.simplify(obs.value)),\n",
    "                    confidence=obs.confidence)\n",
    "        ann_h.append(time=obs.time, duration=obs.duration,\n",
    "                    value=dict(level=4, label=C3567s.simplify(obs.value)),\n",
    "                    confidence=obs.confidence)\n",
    "        ann_h.append(time=obs.time, duration=obs.duration,\n",
    "                    value=dict(level=5, label=obs.value),\n",
    "                    confidence=obs.confidence)\n",
    "    return ann_h"
   ]
  },
  {
   "cell_type": "code",
   "execution_count": 39,
   "metadata": {
    "collapsed": true
   },
   "outputs": [],
   "source": [
    "def drop_empty(ann):\n",
    "    \n",
    "    for obs in ann.pop_data():\n",
    "        if obs.duration:\n",
    "            ann.append(time=obs.time, duration=obs.duration, value=obs.value, confidence=obs.confidence)"
   ]
  },
  {
   "cell_type": "code",
   "execution_count": 40,
   "metadata": {
    "collapsed": true
   },
   "outputs": [],
   "source": [
    "def compare(ref_file, est_file, corpus):\n",
    "    \n",
    "    ref_jam = jams.load(ref_file, validate=False)\n",
    "    est_jam = jams.load(est_file, validate=False)\n",
    "    \n",
    "    ref_ann = ref_jam.search(corpus=corpus)[0]\n",
    "    drop_empty(ref_ann)\n",
    "    \n",
    "    est_ann = est_jam.annotations[0]\n",
    "    drop_empty(est_ann)\n",
    "    \n",
    "    results = jams.eval.hierarchy(chord_to_hier(ref_ann), chord_to_hier(est_ann))\n",
    "    \n",
    "    return {getid(est_file): dict(results)}"
   ]
  },
  {
   "cell_type": "code",
   "execution_count": 41,
   "metadata": {
    "collapsed": true
   },
   "outputs": [],
   "source": [
    "from joblib import Parallel, delayed"
   ]
  },
  {
   "cell_type": "code",
   "execution_count": 42,
   "metadata": {
    "collapsed": true
   },
   "outputs": [],
   "source": [
    "def score_track(tid, corpus, path):\n",
    "    try:\n",
    "        ref_file = os.path.join(REF_PATH, os.path.extsep.join([tid, 'jams']))\n",
    "        est_file = os.path.join(path, os.path.extsep.join([tid, 'jams']))\n",
    "        return compare(ref_file, est_file, corpus)\n",
    "    except ValueError as exc:\n",
    "        print('Failure at track {}'.format(est_file))\n",
    "        print(exc)\n",
    "    return dict()\n",
    "\n",
    "def eval_model(ids, corpus, path, n_jobs=18):\n",
    "    \n",
    "    results_arr = Parallel(n_jobs=n_jobs)(delayed(score_track)(tid, corpus, path) for tid in tqdm(ids))\n",
    "    results = {}\n",
    "    for r in results_arr:\n",
    "        results.update(r)\n",
    "        \n",
    "    return pd.DataFrame.from_dict(results, orient='index').sort_index(axis=1)"
   ]
  },
  {
   "cell_type": "code",
   "execution_count": 43,
   "metadata": {
    "collapsed": true
   },
   "outputs": [],
   "source": [
    "REF_PATH = '/home/bmcfee/data/eric_chords/references_v2/'"
   ]
  },
  {
   "cell_type": "code",
   "execution_count": 44,
   "metadata": {
    "collapsed": true
   },
   "outputs": [],
   "source": [
    "# MARL-mir analysis\n",
    "marl_ids = pd.read_csv('/home/bmcfee/git/ace-lessons/data/chord_dataset/marl-chords.csv', squeeze=True, header=None)\n",
    "marl_corp = 'MARL-Chords'"
   ]
  },
  {
   "cell_type": "code",
   "execution_count": 45,
   "metadata": {},
   "outputs": [
    {
     "data": {
      "application/vnd.jupyter.widget-view+json": {
       "model_id": "139d36146e11420f956dc182c5a93c7e"
      }
     },
     "metadata": {},
     "output_type": "display_data"
    },
    {
     "data": {
      "application/vnd.jupyter.widget-view+json": {
       "model_id": "5dc54e26b1db465eaa536b6c47ad0198"
      }
     },
     "metadata": {},
     "output_type": "display_data"
    },
    {
     "data": {
      "application/vnd.jupyter.widget-view+json": {
       "model_id": "d2691169569841aeb2041c281b1b0ac0"
      }
     },
     "metadata": {},
     "output_type": "display_data"
    },
    {
     "data": {
      "application/vnd.jupyter.widget-view+json": {
       "model_id": "5934805b775d4aeba2e7dcc3f01930d7"
      }
     },
     "metadata": {},
     "output_type": "display_data"
    },
    {
     "data": {
      "application/vnd.jupyter.widget-view+json": {
       "model_id": "f921fc1aa1c74af081325de135df4354"
      }
     },
     "metadata": {},
     "output_type": "display_data"
    },
    {
     "data": {
      "application/vnd.jupyter.widget-view+json": {
       "model_id": "71b3898a102f49b5b2b05dccc044aa84"
      }
     },
     "metadata": {},
     "output_type": "display_data"
    },
    {
     "data": {
      "application/vnd.jupyter.widget-view+json": {
       "model_id": "4783a90fcfa2449b89991c5434111ac1"
      }
     },
     "metadata": {},
     "output_type": "display_data"
    },
    {
     "data": {
      "application/vnd.jupyter.widget-view+json": {
       "model_id": "d2ada5822ae24ffc9d4dbc16887fdb23"
      }
     },
     "metadata": {},
     "output_type": "display_data"
    }
   ],
   "source": [
    "marl_cr2si = eval_model(marl_ids, marl_corp, '/home/bmcfee/git/ismir2017_chords/data/model_deep_struct_aug/predictions-inv/')\n",
    "\n",
    "marl_cr2s = eval_model(marl_ids, marl_corp, '/home/bmcfee/git/ismir2017_chords/data/model_deep_struct_aug/predictions/')\n",
    "\n",
    "marl_cr2 = eval_model(marl_ids, marl_corp, '/home/bmcfee/git/ismir2017_chords/data/model_deep_aug/predictions/')\n",
    "\n",
    "marl_cr1si = eval_model(marl_ids, marl_corp, '/home/bmcfee/git/ismir2017_chords/data/model_struct_aug/predictions-inv/')\n",
    "\n",
    "marl_cr1s = eval_model(marl_ids, marl_corp, '/home/bmcfee/git/ismir2017_chords/data/model_struct_aug/predictions/')\n",
    "\n",
    "marl_cr1 = eval_model(marl_ids, marl_corp, '/home/bmcfee/git/ismir2017_chords/data/model_aug/predictions/')\n",
    "\n",
    "#marl_chordino = eval_model(marl_ids, marl_corp, '/home/bmcfee/git/ismir2017_chords/data/chordino/')\n",
    "\n",
    "marl_dnn = eval_model(marl_ids, marl_corp, '/home/bmcfee/git/ismir2017_chords/data/ejh2015_dnn/predictions/')\n",
    "\n",
    "marl_khmm = eval_model(marl_ids, marl_corp, '/home/bmcfee/git/ismir2017_chords/data/ejh2015_khmm/predictions/')"
   ]
  },
  {
   "cell_type": "code",
   "execution_count": 46,
   "metadata": {
    "collapsed": true
   },
   "outputs": [],
   "source": [
    "#marl_chordino.to_json('/home/bmcfee/git/ismir2017_chords/data/marl_chordino_hier.json')\n",
    "marl_dnn.to_json('/home/bmcfee/git/ismir2017_chords/data/marl_dnn_hier.json')\n",
    "marl_khmm.to_json('/home/bmcfee/git/ismir2017_chords/data/marl_khmm_hier.json')\n",
    "\n",
    "marl_cr1.to_json('/home/bmcfee/git/ismir2017_chords/data/marl_cr1_hier.json')\n",
    "marl_cr1s.to_json('/home/bmcfee/git/ismir2017_chords/data/marl_cr1s_hier.json')\n",
    "marl_cr1si.to_json('/home/bmcfee/git/ismir2017_chords/data/marl_cr1si_hier.json')\n",
    "\n",
    "marl_cr2.to_json('/home/bmcfee/git/ismir2017_chords/data/marl_cr2_hier.json')\n",
    "marl_cr2s.to_json('/home/bmcfee/git/ismir2017_chords/data/marl_cr2s_hier.json')\n",
    "marl_cr2si.to_json('/home/bmcfee/git/ismir2017_chords/data/marl_cr2si_hier.json')\n"
   ]
  },
  {
   "cell_type": "code",
   "execution_count": 47,
   "metadata": {
    "collapsed": true
   },
   "outputs": [],
   "source": [
    "# Isophonics\n",
    "iso_ids = pd.read_csv('/home/bmcfee/git/ace-lessons/data/chord_dataset/isophonics.csv', squeeze=True, header=None)\n",
    "iso_corp = 'Isophonics'"
   ]
  },
  {
   "cell_type": "code",
   "execution_count": 48,
   "metadata": {},
   "outputs": [
    {
     "data": {
      "application/vnd.jupyter.widget-view+json": {
       "model_id": "0a048a001a9546438b3f20169855aeea"
      }
     },
     "metadata": {},
     "output_type": "display_data"
    },
    {
     "data": {
      "application/vnd.jupyter.widget-view+json": {
       "model_id": "35362bc40da849b4b5485aa3c6e61da5"
      }
     },
     "metadata": {},
     "output_type": "display_data"
    },
    {
     "data": {
      "application/vnd.jupyter.widget-view+json": {
       "model_id": "0bcd69db14ad4b7a9c692d8809b802ae"
      }
     },
     "metadata": {},
     "output_type": "display_data"
    },
    {
     "data": {
      "application/vnd.jupyter.widget-view+json": {
       "model_id": "5cb1430dfe6d4d749a58835169134f60"
      }
     },
     "metadata": {},
     "output_type": "display_data"
    },
    {
     "data": {
      "application/vnd.jupyter.widget-view+json": {
       "model_id": "64af1cae99b947fb9685878bad6d4a93"
      }
     },
     "metadata": {},
     "output_type": "display_data"
    },
    {
     "data": {
      "application/vnd.jupyter.widget-view+json": {
       "model_id": "534d2b83aa0a4d43bad8aafe497c7194"
      }
     },
     "metadata": {},
     "output_type": "display_data"
    },
    {
     "data": {
      "application/vnd.jupyter.widget-view+json": {
       "model_id": "912d1949a65f42ed89f5f017f7c8de1d"
      }
     },
     "metadata": {},
     "output_type": "display_data"
    },
    {
     "data": {
      "application/vnd.jupyter.widget-view+json": {
       "model_id": "c140a93d44a14e14a921f1b5ec792fb4"
      }
     },
     "metadata": {},
     "output_type": "display_data"
    }
   ],
   "source": [
    "iso_cr2si = eval_model(iso_ids, iso_corp, '/home/bmcfee/git/ismir2017_chords/data/model_deep_struct_aug/predictions-inv/')\n",
    "\n",
    "iso_cr2s = eval_model(iso_ids, iso_corp, '/home/bmcfee/git/ismir2017_chords/data/model_deep_struct_aug/predictions/')\n",
    "\n",
    "iso_cr2 = eval_model(iso_ids, iso_corp, '/home/bmcfee/git/ismir2017_chords/data/model_deep_aug/predictions/')\n",
    "\n",
    "iso_cr1si = eval_model(iso_ids, iso_corp, '/home/bmcfee/git/ismir2017_chords/data/model_struct_aug/predictions-inv/')\n",
    "\n",
    "iso_cr1s = eval_model(iso_ids, iso_corp, '/home/bmcfee/git/ismir2017_chords/data/model_struct_aug/predictions/')\n",
    "\n",
    "iso_cr1 = eval_model(iso_ids, iso_corp, '/home/bmcfee/git/ismir2017_chords/data/model_aug/predictions/')\n",
    "\n",
    "#iso_chordino = eval_model(iso_ids, iso_corp, '/home/bmcfee/git/ismir2017_chords/data/chordino/')\n",
    "\n",
    "iso_dnn = eval_model(iso_ids, iso_corp, '/home/bmcfee/git/ismir2017_chords/data/ejh2015_dnn/predictions/')\n",
    "\n",
    "iso_khmm = eval_model(iso_ids, iso_corp, '/home/bmcfee/git/ismir2017_chords/data/ejh2015_khmm/predictions/')"
   ]
  },
  {
   "cell_type": "code",
   "execution_count": 49,
   "metadata": {
    "collapsed": true
   },
   "outputs": [],
   "source": [
    "#iso_chordino.to_json('/home/bmcfee/git/ismir2017_chords/data/iso_chordino_hier.json')\n",
    "iso_dnn.to_json('/home/bmcfee/git/ismir2017_chords/data/iso_dnn_hier.json')\n",
    "iso_khmm.to_json('/home/bmcfee/git/ismir2017_chords/data/iso_khmm_hier.json')\n",
    "\n",
    "iso_cr1.to_json('/home/bmcfee/git/ismir2017_chords/data/iso_cr1_hier.json')\n",
    "iso_cr1s.to_json('/home/bmcfee/git/ismir2017_chords/data/iso_cr1s_hier.json')\n",
    "iso_cr1si.to_json('/home/bmcfee/git/ismir2017_chords/data/iso_cr1si_hier.json')\n",
    "\n",
    "iso_cr2.to_json('/home/bmcfee/git/ismir2017_chords/data/iso_cr2_hier.json')\n",
    "iso_cr2s.to_json('/home/bmcfee/git/ismir2017_chords/data/iso_cr2s_hier.json')\n",
    "iso_cr2si.to_json('/home/bmcfee/git/ismir2017_chords/data/iso_cr2si_hier.json')\n"
   ]
  },
  {
   "cell_type": "code",
   "execution_count": 50,
   "metadata": {
    "collapsed": true
   },
   "outputs": [],
   "source": [
    "# Billboard analysis\n",
    "bb_ids = pd.read_csv('/home/bmcfee/git/ace-lessons/data/chord_dataset/billboard.csv', squeeze=True, header=None)\n",
    "bb_corp = 'Billboard-Chords'"
   ]
  },
  {
   "cell_type": "code",
   "execution_count": 51,
   "metadata": {},
   "outputs": [
    {
     "data": {
      "application/vnd.jupyter.widget-view+json": {
       "model_id": "05f39b16c28440fc968b6ece6d7dc82a"
      }
     },
     "metadata": {},
     "output_type": "display_data"
    },
    {
     "data": {
      "application/vnd.jupyter.widget-view+json": {
       "model_id": "17ff22a8a9b0435c88a270cdbfa2bae1"
      }
     },
     "metadata": {},
     "output_type": "display_data"
    },
    {
     "data": {
      "application/vnd.jupyter.widget-view+json": {
       "model_id": "42c0b888546a406893e3b925089c1b05"
      }
     },
     "metadata": {},
     "output_type": "display_data"
    },
    {
     "data": {
      "application/vnd.jupyter.widget-view+json": {
       "model_id": "7118511dc07542c58c2f0edd231d52e4"
      }
     },
     "metadata": {},
     "output_type": "display_data"
    },
    {
     "data": {
      "application/vnd.jupyter.widget-view+json": {
       "model_id": "f49e4cab1dc54d36a60bb55da9e05669"
      }
     },
     "metadata": {},
     "output_type": "display_data"
    },
    {
     "data": {
      "application/vnd.jupyter.widget-view+json": {
       "model_id": "d063939319424373b959c7ed89b3af02"
      }
     },
     "metadata": {},
     "output_type": "display_data"
    },
    {
     "data": {
      "application/vnd.jupyter.widget-view+json": {
       "model_id": "a7659354358c4354bae5ea0606e1672e"
      }
     },
     "metadata": {},
     "output_type": "display_data"
    },
    {
     "data": {
      "application/vnd.jupyter.widget-view+json": {
       "model_id": "8fd8425d58f9426f9effa50aea9c34a8"
      }
     },
     "metadata": {},
     "output_type": "display_data"
    }
   ],
   "source": [
    "bb_cr2si = eval_model(bb_ids, bb_corp, '/home/bmcfee/git/ismir2017_chords/data/model_deep_struct_aug/predictions-inv/')\n",
    "\n",
    "bb_cr2s = eval_model(bb_ids, bb_corp, '/home/bmcfee/git/ismir2017_chords/data/model_deep_struct_aug/predictions/')\n",
    "\n",
    "bb_cr2 = eval_model(bb_ids, bb_corp, '/home/bmcfee/git/ismir2017_chords/data/model_deep_aug/predictions/')\n",
    "\n",
    "bb_cr1si = eval_model(bb_ids, bb_corp, '/home/bmcfee/git/ismir2017_chords/data/model_struct_aug/predictions-inv/')\n",
    "\n",
    "bb_cr1s = eval_model(bb_ids, bb_corp, '/home/bmcfee/git/ismir2017_chords/data/model_struct_aug/predictions/')\n",
    "\n",
    "bb_cr1 = eval_model(bb_ids, bb_corp, '/home/bmcfee/git/ismir2017_chords/data/model_aug/predictions/')\n",
    "\n",
    "#bb_chordino = eval_model(bb_ids, bb_corp, '/home/bmcfee/git/ismir2017_chords/data/chordino/')\n",
    "\n",
    "bb_dnn = eval_model(bb_ids, bb_corp, '/home/bmcfee/git/ismir2017_chords/data/ejh2015_dnn/predictions/')\n",
    "\n",
    "bb_khmm = eval_model(bb_ids, bb_corp, '/home/bmcfee/git/ismir2017_chords/data/ejh2015_khmm/predictions/')"
   ]
  },
  {
   "cell_type": "code",
   "execution_count": 52,
   "metadata": {
    "collapsed": true
   },
   "outputs": [],
   "source": [
    "#bb_chordino.to_json('/home/bmcfee/git/ismir2017_chords/data/bb_chordino_hier.json')\n",
    "bb_dnn.to_json('/home/bmcfee/git/ismir2017_chords/data/bb_dnn_hier.json')\n",
    "bb_khmm.to_json('/home/bmcfee/git/ismir2017_chords/data/bb_khmm_hier.json')\n",
    "\n",
    "bb_cr1.to_json('/home/bmcfee/git/ismir2017_chords/data/bb_cr1_hier.json')\n",
    "bb_cr1s.to_json('/home/bmcfee/git/ismir2017_chords/data/bb_cr1s_hier.json')\n",
    "bb_cr1si.to_json('/home/bmcfee/git/ismir2017_chords/data/bb_cr1si_hier.json')\n",
    "\n",
    "bb_cr2.to_json('/home/bmcfee/git/ismir2017_chords/data/bb_cr2_hier.json')\n",
    "bb_cr2s.to_json('/home/bmcfee/git/ismir2017_chords/data/bb_cr2s_hier.json')\n",
    "bb_cr2si.to_json('/home/bmcfee/git/ismir2017_chords/data/bb_cr2si_hier.json')\n"
   ]
  },
  {
   "cell_type": "code",
   "execution_count": 53,
   "metadata": {},
   "outputs": [
    {
     "data": {
      "text/html": [
       "<div>\n",
       "<style>\n",
       "    .dataframe thead tr:only-child th {\n",
       "        text-align: right;\n",
       "    }\n",
       "\n",
       "    .dataframe thead th {\n",
       "        text-align: left;\n",
       "    }\n",
       "\n",
       "    .dataframe tbody tr th {\n",
       "        vertical-align: top;\n",
       "    }\n",
       "</style>\n",
       "<table border=\"1\" class=\"dataframe\">\n",
       "  <thead>\n",
       "    <tr style=\"text-align: right;\">\n",
       "      <th></th>\n",
       "      <th>L-Measure</th>\n",
       "      <th>L-Precision</th>\n",
       "      <th>L-Recall</th>\n",
       "      <th>T-Measure full</th>\n",
       "      <th>T-Measure reduced</th>\n",
       "      <th>T-Precision full</th>\n",
       "      <th>T-Precision reduced</th>\n",
       "      <th>T-Recall full</th>\n",
       "      <th>T-Recall reduced</th>\n",
       "    </tr>\n",
       "  </thead>\n",
       "  <tbody>\n",
       "    <tr>\n",
       "      <th>count</th>\n",
       "      <td>738.000000</td>\n",
       "      <td>738.000000</td>\n",
       "      <td>738.000000</td>\n",
       "      <td>738.000000</td>\n",
       "      <td>738.0</td>\n",
       "      <td>738.000000</td>\n",
       "      <td>738.0</td>\n",
       "      <td>738.000000</td>\n",
       "      <td>738.0</td>\n",
       "    </tr>\n",
       "    <tr>\n",
       "      <th>mean</th>\n",
       "      <td>0.653657</td>\n",
       "      <td>0.656786</td>\n",
       "      <td>0.656043</td>\n",
       "      <td>0.648538</td>\n",
       "      <td>0.0</td>\n",
       "      <td>0.583595</td>\n",
       "      <td>0.0</td>\n",
       "      <td>0.754649</td>\n",
       "      <td>0.0</td>\n",
       "    </tr>\n",
       "    <tr>\n",
       "      <th>std</th>\n",
       "      <td>0.150062</td>\n",
       "      <td>0.149431</td>\n",
       "      <td>0.152027</td>\n",
       "      <td>0.148036</td>\n",
       "      <td>0.0</td>\n",
       "      <td>0.172536</td>\n",
       "      <td>0.0</td>\n",
       "      <td>0.123593</td>\n",
       "      <td>0.0</td>\n",
       "    </tr>\n",
       "    <tr>\n",
       "      <th>min</th>\n",
       "      <td>0.010482</td>\n",
       "      <td>0.007551</td>\n",
       "      <td>0.017132</td>\n",
       "      <td>0.094292</td>\n",
       "      <td>0.0</td>\n",
       "      <td>0.122489</td>\n",
       "      <td>0.0</td>\n",
       "      <td>0.065365</td>\n",
       "      <td>0.0</td>\n",
       "    </tr>\n",
       "    <tr>\n",
       "      <th>25%</th>\n",
       "      <td>0.566694</td>\n",
       "      <td>0.564339</td>\n",
       "      <td>0.569133</td>\n",
       "      <td>0.571450</td>\n",
       "      <td>0.0</td>\n",
       "      <td>0.464312</td>\n",
       "      <td>0.0</td>\n",
       "      <td>0.724162</td>\n",
       "      <td>0.0</td>\n",
       "    </tr>\n",
       "    <tr>\n",
       "      <th>50%</th>\n",
       "      <td>0.669802</td>\n",
       "      <td>0.673162</td>\n",
       "      <td>0.666617</td>\n",
       "      <td>0.674685</td>\n",
       "      <td>0.0</td>\n",
       "      <td>0.603826</td>\n",
       "      <td>0.0</td>\n",
       "      <td>0.783590</td>\n",
       "      <td>0.0</td>\n",
       "    </tr>\n",
       "    <tr>\n",
       "      <th>75%</th>\n",
       "      <td>0.766886</td>\n",
       "      <td>0.773568</td>\n",
       "      <td>0.775492</td>\n",
       "      <td>0.754707</td>\n",
       "      <td>0.0</td>\n",
       "      <td>0.719957</td>\n",
       "      <td>0.0</td>\n",
       "      <td>0.828606</td>\n",
       "      <td>0.0</td>\n",
       "    </tr>\n",
       "    <tr>\n",
       "      <th>max</th>\n",
       "      <td>0.946258</td>\n",
       "      <td>0.955641</td>\n",
       "      <td>0.951384</td>\n",
       "      <td>0.919813</td>\n",
       "      <td>0.0</td>\n",
       "      <td>0.909408</td>\n",
       "      <td>0.0</td>\n",
       "      <td>0.935270</td>\n",
       "      <td>0.0</td>\n",
       "    </tr>\n",
       "  </tbody>\n",
       "</table>\n",
       "</div>"
      ],
      "text/plain": [
       "        L-Measure  L-Precision    L-Recall  T-Measure full  T-Measure reduced  \\\n",
       "count  738.000000   738.000000  738.000000      738.000000              738.0   \n",
       "mean     0.653657     0.656786    0.656043        0.648538                0.0   \n",
       "std      0.150062     0.149431    0.152027        0.148036                0.0   \n",
       "min      0.010482     0.007551    0.017132        0.094292                0.0   \n",
       "25%      0.566694     0.564339    0.569133        0.571450                0.0   \n",
       "50%      0.669802     0.673162    0.666617        0.674685                0.0   \n",
       "75%      0.766886     0.773568    0.775492        0.754707                0.0   \n",
       "max      0.946258     0.955641    0.951384        0.919813                0.0   \n",
       "\n",
       "       T-Precision full  T-Precision reduced  T-Recall full  T-Recall reduced  \n",
       "count        738.000000                738.0     738.000000             738.0  \n",
       "mean           0.583595                  0.0       0.754649               0.0  \n",
       "std            0.172536                  0.0       0.123593               0.0  \n",
       "min            0.122489                  0.0       0.065365               0.0  \n",
       "25%            0.464312                  0.0       0.724162               0.0  \n",
       "50%            0.603826                  0.0       0.783590               0.0  \n",
       "75%            0.719957                  0.0       0.828606               0.0  \n",
       "max            0.909408                  0.0       0.935270               0.0  "
      ]
     },
     "execution_count": 53,
     "metadata": {},
     "output_type": "execute_result"
    }
   ],
   "source": [
    "bb_khmm.describe()"
   ]
  },
  {
   "cell_type": "code",
   "execution_count": 54,
   "metadata": {},
   "outputs": [
    {
     "data": {
      "text/html": [
       "<div>\n",
       "<style>\n",
       "    .dataframe thead tr:only-child th {\n",
       "        text-align: right;\n",
       "    }\n",
       "\n",
       "    .dataframe thead th {\n",
       "        text-align: left;\n",
       "    }\n",
       "\n",
       "    .dataframe tbody tr th {\n",
       "        vertical-align: top;\n",
       "    }\n",
       "</style>\n",
       "<table border=\"1\" class=\"dataframe\">\n",
       "  <thead>\n",
       "    <tr style=\"text-align: right;\">\n",
       "      <th></th>\n",
       "      <th>L-Measure</th>\n",
       "      <th>L-Precision</th>\n",
       "      <th>L-Recall</th>\n",
       "      <th>T-Measure full</th>\n",
       "      <th>T-Measure reduced</th>\n",
       "      <th>T-Precision full</th>\n",
       "      <th>T-Precision reduced</th>\n",
       "      <th>T-Recall full</th>\n",
       "      <th>T-Recall reduced</th>\n",
       "    </tr>\n",
       "  </thead>\n",
       "  <tbody>\n",
       "    <tr>\n",
       "      <th>count</th>\n",
       "      <td>738.000000</td>\n",
       "      <td>738.000000</td>\n",
       "      <td>738.000000</td>\n",
       "      <td>738.000000</td>\n",
       "      <td>738.0</td>\n",
       "      <td>738.000000</td>\n",
       "      <td>738.0</td>\n",
       "      <td>738.000000</td>\n",
       "      <td>738.0</td>\n",
       "    </tr>\n",
       "    <tr>\n",
       "      <th>mean</th>\n",
       "      <td>0.652781</td>\n",
       "      <td>0.660091</td>\n",
       "      <td>0.651485</td>\n",
       "      <td>0.644530</td>\n",
       "      <td>0.0</td>\n",
       "      <td>0.568557</td>\n",
       "      <td>0.0</td>\n",
       "      <td>0.770084</td>\n",
       "      <td>0.0</td>\n",
       "    </tr>\n",
       "    <tr>\n",
       "      <th>std</th>\n",
       "      <td>0.165152</td>\n",
       "      <td>0.161665</td>\n",
       "      <td>0.169576</td>\n",
       "      <td>0.154272</td>\n",
       "      <td>0.0</td>\n",
       "      <td>0.174078</td>\n",
       "      <td>0.0</td>\n",
       "      <td>0.125363</td>\n",
       "      <td>0.0</td>\n",
       "    </tr>\n",
       "    <tr>\n",
       "      <th>min</th>\n",
       "      <td>0.000000</td>\n",
       "      <td>0.000000</td>\n",
       "      <td>0.000000</td>\n",
       "      <td>0.000000</td>\n",
       "      <td>0.0</td>\n",
       "      <td>0.000000</td>\n",
       "      <td>0.0</td>\n",
       "      <td>0.000000</td>\n",
       "      <td>0.0</td>\n",
       "    </tr>\n",
       "    <tr>\n",
       "      <th>25%</th>\n",
       "      <td>0.554141</td>\n",
       "      <td>0.558964</td>\n",
       "      <td>0.548233</td>\n",
       "      <td>0.565257</td>\n",
       "      <td>0.0</td>\n",
       "      <td>0.455665</td>\n",
       "      <td>0.0</td>\n",
       "      <td>0.736425</td>\n",
       "      <td>0.0</td>\n",
       "    </tr>\n",
       "    <tr>\n",
       "      <th>50%</th>\n",
       "      <td>0.669180</td>\n",
       "      <td>0.681866</td>\n",
       "      <td>0.669481</td>\n",
       "      <td>0.675833</td>\n",
       "      <td>0.0</td>\n",
       "      <td>0.585007</td>\n",
       "      <td>0.0</td>\n",
       "      <td>0.801192</td>\n",
       "      <td>0.0</td>\n",
       "    </tr>\n",
       "    <tr>\n",
       "      <th>75%</th>\n",
       "      <td>0.778982</td>\n",
       "      <td>0.783180</td>\n",
       "      <td>0.785465</td>\n",
       "      <td>0.757155</td>\n",
       "      <td>0.0</td>\n",
       "      <td>0.703153</td>\n",
       "      <td>0.0</td>\n",
       "      <td>0.843885</td>\n",
       "      <td>0.0</td>\n",
       "    </tr>\n",
       "    <tr>\n",
       "      <th>max</th>\n",
       "      <td>0.971134</td>\n",
       "      <td>0.967708</td>\n",
       "      <td>0.982509</td>\n",
       "      <td>0.919614</td>\n",
       "      <td>0.0</td>\n",
       "      <td>0.902510</td>\n",
       "      <td>0.0</td>\n",
       "      <td>0.937378</td>\n",
       "      <td>0.0</td>\n",
       "    </tr>\n",
       "  </tbody>\n",
       "</table>\n",
       "</div>"
      ],
      "text/plain": [
       "        L-Measure  L-Precision    L-Recall  T-Measure full  T-Measure reduced  \\\n",
       "count  738.000000   738.000000  738.000000      738.000000              738.0   \n",
       "mean     0.652781     0.660091    0.651485        0.644530                0.0   \n",
       "std      0.165152     0.161665    0.169576        0.154272                0.0   \n",
       "min      0.000000     0.000000    0.000000        0.000000                0.0   \n",
       "25%      0.554141     0.558964    0.548233        0.565257                0.0   \n",
       "50%      0.669180     0.681866    0.669481        0.675833                0.0   \n",
       "75%      0.778982     0.783180    0.785465        0.757155                0.0   \n",
       "max      0.971134     0.967708    0.982509        0.919614                0.0   \n",
       "\n",
       "       T-Precision full  T-Precision reduced  T-Recall full  T-Recall reduced  \n",
       "count        738.000000                738.0     738.000000             738.0  \n",
       "mean           0.568557                  0.0       0.770084               0.0  \n",
       "std            0.174078                  0.0       0.125363               0.0  \n",
       "min            0.000000                  0.0       0.000000               0.0  \n",
       "25%            0.455665                  0.0       0.736425               0.0  \n",
       "50%            0.585007                  0.0       0.801192               0.0  \n",
       "75%            0.703153                  0.0       0.843885               0.0  \n",
       "max            0.902510                  0.0       0.937378               0.0  "
      ]
     },
     "execution_count": 54,
     "metadata": {},
     "output_type": "execute_result"
    }
   ],
   "source": [
    "bb_dnn.describe()"
   ]
  },
  {
   "cell_type": "code",
   "execution_count": 55,
   "metadata": {},
   "outputs": [
    {
     "data": {
      "text/html": [
       "<div>\n",
       "<style>\n",
       "    .dataframe thead tr:only-child th {\n",
       "        text-align: right;\n",
       "    }\n",
       "\n",
       "    .dataframe thead th {\n",
       "        text-align: left;\n",
       "    }\n",
       "\n",
       "    .dataframe tbody tr th {\n",
       "        vertical-align: top;\n",
       "    }\n",
       "</style>\n",
       "<table border=\"1\" class=\"dataframe\">\n",
       "  <thead>\n",
       "    <tr style=\"text-align: right;\">\n",
       "      <th></th>\n",
       "      <th>L-Measure</th>\n",
       "      <th>L-Precision</th>\n",
       "      <th>L-Recall</th>\n",
       "      <th>T-Measure full</th>\n",
       "      <th>T-Measure reduced</th>\n",
       "      <th>T-Precision full</th>\n",
       "      <th>T-Precision reduced</th>\n",
       "      <th>T-Recall full</th>\n",
       "      <th>T-Recall reduced</th>\n",
       "    </tr>\n",
       "  </thead>\n",
       "  <tbody>\n",
       "    <tr>\n",
       "      <th>count</th>\n",
       "      <td>738.000000</td>\n",
       "      <td>738.000000</td>\n",
       "      <td>738.000000</td>\n",
       "      <td>738.000000</td>\n",
       "      <td>738.0</td>\n",
       "      <td>738.000000</td>\n",
       "      <td>738.0</td>\n",
       "      <td>738.000000</td>\n",
       "      <td>738.0</td>\n",
       "    </tr>\n",
       "    <tr>\n",
       "      <th>mean</th>\n",
       "      <td>0.677357</td>\n",
       "      <td>0.677136</td>\n",
       "      <td>0.683786</td>\n",
       "      <td>0.662780</td>\n",
       "      <td>0.0</td>\n",
       "      <td>0.609517</td>\n",
       "      <td>0.0</td>\n",
       "      <td>0.746259</td>\n",
       "      <td>0.0</td>\n",
       "    </tr>\n",
       "    <tr>\n",
       "      <th>std</th>\n",
       "      <td>0.155820</td>\n",
       "      <td>0.155799</td>\n",
       "      <td>0.156487</td>\n",
       "      <td>0.119608</td>\n",
       "      <td>0.0</td>\n",
       "      <td>0.149486</td>\n",
       "      <td>0.0</td>\n",
       "      <td>0.100112</td>\n",
       "      <td>0.0</td>\n",
       "    </tr>\n",
       "    <tr>\n",
       "      <th>min</th>\n",
       "      <td>0.105973</td>\n",
       "      <td>0.057309</td>\n",
       "      <td>0.068388</td>\n",
       "      <td>0.134901</td>\n",
       "      <td>0.0</td>\n",
       "      <td>0.138033</td>\n",
       "      <td>0.0</td>\n",
       "      <td>0.118678</td>\n",
       "      <td>0.0</td>\n",
       "    </tr>\n",
       "    <tr>\n",
       "      <th>25%</th>\n",
       "      <td>0.577905</td>\n",
       "      <td>0.570678</td>\n",
       "      <td>0.580266</td>\n",
       "      <td>0.590138</td>\n",
       "      <td>0.0</td>\n",
       "      <td>0.507703</td>\n",
       "      <td>0.0</td>\n",
       "      <td>0.697324</td>\n",
       "      <td>0.0</td>\n",
       "    </tr>\n",
       "    <tr>\n",
       "      <th>50%</th>\n",
       "      <td>0.696937</td>\n",
       "      <td>0.694662</td>\n",
       "      <td>0.707670</td>\n",
       "      <td>0.670253</td>\n",
       "      <td>0.0</td>\n",
       "      <td>0.617781</td>\n",
       "      <td>0.0</td>\n",
       "      <td>0.762439</td>\n",
       "      <td>0.0</td>\n",
       "    </tr>\n",
       "    <tr>\n",
       "      <th>75%</th>\n",
       "      <td>0.802949</td>\n",
       "      <td>0.803356</td>\n",
       "      <td>0.808796</td>\n",
       "      <td>0.747612</td>\n",
       "      <td>0.0</td>\n",
       "      <td>0.722210</td>\n",
       "      <td>0.0</td>\n",
       "      <td>0.814520</td>\n",
       "      <td>0.0</td>\n",
       "    </tr>\n",
       "    <tr>\n",
       "      <th>max</th>\n",
       "      <td>0.970100</td>\n",
       "      <td>0.972578</td>\n",
       "      <td>0.987116</td>\n",
       "      <td>0.932070</td>\n",
       "      <td>0.0</td>\n",
       "      <td>0.935880</td>\n",
       "      <td>0.0</td>\n",
       "      <td>0.941823</td>\n",
       "      <td>0.0</td>\n",
       "    </tr>\n",
       "  </tbody>\n",
       "</table>\n",
       "</div>"
      ],
      "text/plain": [
       "        L-Measure  L-Precision    L-Recall  T-Measure full  T-Measure reduced  \\\n",
       "count  738.000000   738.000000  738.000000      738.000000              738.0   \n",
       "mean     0.677357     0.677136    0.683786        0.662780                0.0   \n",
       "std      0.155820     0.155799    0.156487        0.119608                0.0   \n",
       "min      0.105973     0.057309    0.068388        0.134901                0.0   \n",
       "25%      0.577905     0.570678    0.580266        0.590138                0.0   \n",
       "50%      0.696937     0.694662    0.707670        0.670253                0.0   \n",
       "75%      0.802949     0.803356    0.808796        0.747612                0.0   \n",
       "max      0.970100     0.972578    0.987116        0.932070                0.0   \n",
       "\n",
       "       T-Precision full  T-Precision reduced  T-Recall full  T-Recall reduced  \n",
       "count        738.000000                738.0     738.000000             738.0  \n",
       "mean           0.609517                  0.0       0.746259               0.0  \n",
       "std            0.149486                  0.0       0.100112               0.0  \n",
       "min            0.138033                  0.0       0.118678               0.0  \n",
       "25%            0.507703                  0.0       0.697324               0.0  \n",
       "50%            0.617781                  0.0       0.762439               0.0  \n",
       "75%            0.722210                  0.0       0.814520               0.0  \n",
       "max            0.935880                  0.0       0.941823               0.0  "
      ]
     },
     "execution_count": 55,
     "metadata": {},
     "output_type": "execute_result"
    }
   ],
   "source": [
    "bb_cr2si.describe()"
   ]
  },
  {
   "cell_type": "code",
   "execution_count": 56,
   "metadata": {},
   "outputs": [
    {
     "data": {
      "text/html": [
       "<div>\n",
       "<style>\n",
       "    .dataframe thead tr:only-child th {\n",
       "        text-align: right;\n",
       "    }\n",
       "\n",
       "    .dataframe thead th {\n",
       "        text-align: left;\n",
       "    }\n",
       "\n",
       "    .dataframe tbody tr th {\n",
       "        vertical-align: top;\n",
       "    }\n",
       "</style>\n",
       "<table border=\"1\" class=\"dataframe\">\n",
       "  <thead>\n",
       "    <tr style=\"text-align: right;\">\n",
       "      <th></th>\n",
       "      <th>L-Measure</th>\n",
       "      <th>L-Precision</th>\n",
       "      <th>L-Recall</th>\n",
       "      <th>T-Measure full</th>\n",
       "      <th>T-Measure reduced</th>\n",
       "      <th>T-Precision full</th>\n",
       "      <th>T-Precision reduced</th>\n",
       "      <th>T-Recall full</th>\n",
       "      <th>T-Recall reduced</th>\n",
       "    </tr>\n",
       "  </thead>\n",
       "  <tbody>\n",
       "    <tr>\n",
       "      <th>count</th>\n",
       "      <td>738.000000</td>\n",
       "      <td>738.000000</td>\n",
       "      <td>738.000000</td>\n",
       "      <td>738.000000</td>\n",
       "      <td>738.0</td>\n",
       "      <td>738.000000</td>\n",
       "      <td>738.0</td>\n",
       "      <td>738.000000</td>\n",
       "      <td>738.0</td>\n",
       "    </tr>\n",
       "    <tr>\n",
       "      <th>mean</th>\n",
       "      <td>0.676008</td>\n",
       "      <td>0.677525</td>\n",
       "      <td>0.680707</td>\n",
       "      <td>0.662780</td>\n",
       "      <td>0.0</td>\n",
       "      <td>0.609517</td>\n",
       "      <td>0.0</td>\n",
       "      <td>0.746259</td>\n",
       "      <td>0.0</td>\n",
       "    </tr>\n",
       "    <tr>\n",
       "      <th>std</th>\n",
       "      <td>0.156151</td>\n",
       "      <td>0.155839</td>\n",
       "      <td>0.157157</td>\n",
       "      <td>0.119608</td>\n",
       "      <td>0.0</td>\n",
       "      <td>0.149486</td>\n",
       "      <td>0.0</td>\n",
       "      <td>0.100112</td>\n",
       "      <td>0.0</td>\n",
       "    </tr>\n",
       "    <tr>\n",
       "      <th>min</th>\n",
       "      <td>0.106045</td>\n",
       "      <td>0.057352</td>\n",
       "      <td>0.068388</td>\n",
       "      <td>0.134901</td>\n",
       "      <td>0.0</td>\n",
       "      <td>0.138033</td>\n",
       "      <td>0.0</td>\n",
       "      <td>0.118678</td>\n",
       "      <td>0.0</td>\n",
       "    </tr>\n",
       "    <tr>\n",
       "      <th>25%</th>\n",
       "      <td>0.574454</td>\n",
       "      <td>0.570563</td>\n",
       "      <td>0.574803</td>\n",
       "      <td>0.590138</td>\n",
       "      <td>0.0</td>\n",
       "      <td>0.507703</td>\n",
       "      <td>0.0</td>\n",
       "      <td>0.697324</td>\n",
       "      <td>0.0</td>\n",
       "    </tr>\n",
       "    <tr>\n",
       "      <th>50%</th>\n",
       "      <td>0.694601</td>\n",
       "      <td>0.695757</td>\n",
       "      <td>0.702266</td>\n",
       "      <td>0.670253</td>\n",
       "      <td>0.0</td>\n",
       "      <td>0.617781</td>\n",
       "      <td>0.0</td>\n",
       "      <td>0.762439</td>\n",
       "      <td>0.0</td>\n",
       "    </tr>\n",
       "    <tr>\n",
       "      <th>75%</th>\n",
       "      <td>0.801675</td>\n",
       "      <td>0.802457</td>\n",
       "      <td>0.805958</td>\n",
       "      <td>0.747612</td>\n",
       "      <td>0.0</td>\n",
       "      <td>0.722210</td>\n",
       "      <td>0.0</td>\n",
       "      <td>0.814520</td>\n",
       "      <td>0.0</td>\n",
       "    </tr>\n",
       "    <tr>\n",
       "      <th>max</th>\n",
       "      <td>0.970100</td>\n",
       "      <td>0.972578</td>\n",
       "      <td>0.987116</td>\n",
       "      <td>0.932070</td>\n",
       "      <td>0.0</td>\n",
       "      <td>0.935880</td>\n",
       "      <td>0.0</td>\n",
       "      <td>0.941823</td>\n",
       "      <td>0.0</td>\n",
       "    </tr>\n",
       "  </tbody>\n",
       "</table>\n",
       "</div>"
      ],
      "text/plain": [
       "        L-Measure  L-Precision    L-Recall  T-Measure full  T-Measure reduced  \\\n",
       "count  738.000000   738.000000  738.000000      738.000000              738.0   \n",
       "mean     0.676008     0.677525    0.680707        0.662780                0.0   \n",
       "std      0.156151     0.155839    0.157157        0.119608                0.0   \n",
       "min      0.106045     0.057352    0.068388        0.134901                0.0   \n",
       "25%      0.574454     0.570563    0.574803        0.590138                0.0   \n",
       "50%      0.694601     0.695757    0.702266        0.670253                0.0   \n",
       "75%      0.801675     0.802457    0.805958        0.747612                0.0   \n",
       "max      0.970100     0.972578    0.987116        0.932070                0.0   \n",
       "\n",
       "       T-Precision full  T-Precision reduced  T-Recall full  T-Recall reduced  \n",
       "count        738.000000                738.0     738.000000             738.0  \n",
       "mean           0.609517                  0.0       0.746259               0.0  \n",
       "std            0.149486                  0.0       0.100112               0.0  \n",
       "min            0.138033                  0.0       0.118678               0.0  \n",
       "25%            0.507703                  0.0       0.697324               0.0  \n",
       "50%            0.617781                  0.0       0.762439               0.0  \n",
       "75%            0.722210                  0.0       0.814520               0.0  \n",
       "max            0.935880                  0.0       0.941823               0.0  "
      ]
     },
     "execution_count": 56,
     "metadata": {},
     "output_type": "execute_result"
    }
   ],
   "source": [
    "bb_cr2s.describe()"
   ]
  }
 ],
 "metadata": {
  "kernelspec": {
   "display_name": "Python [default]",
   "language": "python",
   "name": "python3"
  },
  "language_info": {
   "codemirror_mode": {
    "name": "ipython",
    "version": 3
   },
   "file_extension": ".py",
   "mimetype": "text/x-python",
   "name": "python",
   "nbconvert_exporter": "python",
   "pygments_lexer": "ipython3",
   "version": "3.5.1"
  }
 },
 "nbformat": 4,
 "nbformat_minor": 2
}
