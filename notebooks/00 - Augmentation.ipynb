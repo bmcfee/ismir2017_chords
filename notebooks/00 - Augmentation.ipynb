{
 "cells": [
  {
   "cell_type": "code",
   "execution_count": 1,
   "metadata": {
    "collapsed": true
   },
   "outputs": [],
   "source": [
    "import os\n",
    "\n",
    "from joblib import Parallel, delayed\n",
    "from tqdm import tqdm_notebook as tqdm\n",
    "import pickle\n",
    "import pandas as pd\n",
    "\n",
    "import jams\n",
    "import numpy as np\n",
    "\n",
    "import muda"
   ]
  },
  {
   "cell_type": "code",
   "execution_count": 2,
   "metadata": {
    "collapsed": true
   },
   "outputs": [],
   "source": [
    "def root(x):\n",
    "    return os.path.splitext(os.path.basename(x))[0]\n",
    "\n",
    "AUDIO = jams.util.find_with_extension('/home/bmcfee/data/eric_chords/audio/', 'mp3')\n",
    "ANNOS = jams.util.find_with_extension('/home/bmcfee/data/eric_chords/references_v2/', 'jams')\n",
    "\n",
    "# Make sure there are the same number of files\n",
    "assert len(AUDIO) == len(ANNOS)\n",
    "\n",
    "# And that they're in agreement\n",
    "assert all([root(_1) == root(_2) for (_1, _2) in zip(AUDIO, ANNOS)])"
   ]
  },
  {
   "cell_type": "code",
   "execution_count": 3,
   "metadata": {
    "collapsed": true
   },
   "outputs": [],
   "source": [
    "OUTDIR = '/home/bmcfee/working/chords/augmentation/'"
   ]
  },
  {
   "cell_type": "code",
   "execution_count": 4,
   "metadata": {
    "collapsed": false
   },
   "outputs": [],
   "source": [
    "!mkdir -p {OUTDIR}"
   ]
  },
  {
   "cell_type": "code",
   "execution_count": 5,
   "metadata": {
    "collapsed": true
   },
   "outputs": [],
   "source": [
    "def augment(afile, jfile, deformer, outpath):\n",
    "    \n",
    "    jam = muda.load_jam_audio(jfile, afile)\n",
    "    \n",
    "    base = root(afile)\n",
    "    outfile = os.path.join(outpath, base)\n",
    "    \n",
    "    for i, jam_out in enumerate(deformer.transform(jam)):\n",
    "        muda.save('{}.{}.flac'.format(outfile, i),\n",
    "                  '{}.{}.jams'.format(outfile, i),\n",
    "                 jam_out, strict=False)"
   ]
  },
  {
   "cell_type": "code",
   "execution_count": 6,
   "metadata": {
    "collapsed": true
   },
   "outputs": [],
   "source": [
    "# Create the augmentation engine\n",
    "pitcher = muda.deformers.PitchShift(n_semitones=[-2, -1, 1, 2])"
   ]
  },
  {
   "cell_type": "code",
   "execution_count": 7,
   "metadata": {
    "collapsed": true
   },
   "outputs": [],
   "source": [
    "with open('/home/bmcfee/working/chords/muda.pkl', 'wb') as fd:\n",
    "    pickle.dump(pitcher, fd)"
   ]
  },
  {
   "cell_type": "code",
   "execution_count": 8,
   "metadata": {
    "collapsed": false
   },
   "outputs": [
    {
     "name": "stderr",
     "output_type": "stream",
     "text": [
      "[Parallel(n_jobs=20)]: Done   1 tasks      | elapsed:   18.6s\n",
      "[Parallel(n_jobs=20)]: Done  10 tasks      | elapsed:   23.7s\n",
      "[Parallel(n_jobs=20)]: Done  21 tasks      | elapsed:   40.3s\n",
      "[Parallel(n_jobs=20)]: Done  32 tasks      | elapsed:   55.4s\n",
      "[Parallel(n_jobs=20)]: Done  45 tasks      | elapsed:  1.3min\n",
      "[Parallel(n_jobs=20)]: Done  58 tasks      | elapsed:  1.5min\n",
      "[Parallel(n_jobs=20)]: Done  73 tasks      | elapsed:  1.8min\n",
      "[Parallel(n_jobs=20)]: Done  88 tasks      | elapsed:  2.2min\n",
      "[Parallel(n_jobs=20)]: Done 105 tasks      | elapsed:  2.6min\n",
      "[Parallel(n_jobs=20)]: Done 122 tasks      | elapsed:  3.0min\n",
      "[Parallel(n_jobs=20)]: Done 141 tasks      | elapsed:  3.4min\n",
      "[Parallel(n_jobs=20)]: Done 160 tasks      | elapsed:  3.9min\n",
      "[Parallel(n_jobs=20)]: Done 181 tasks      | elapsed:  4.4min\n",
      "[Parallel(n_jobs=20)]: Done 202 tasks      | elapsed:  4.8min\n",
      "[Parallel(n_jobs=20)]: Done 225 tasks      | elapsed:  5.4min\n",
      "[Parallel(n_jobs=20)]: Done 248 tasks      | elapsed:  5.9min\n",
      "[Parallel(n_jobs=20)]: Done 273 tasks      | elapsed:  6.6min\n",
      "[Parallel(n_jobs=20)]: Done 298 tasks      | elapsed:  7.1min\n",
      "[Parallel(n_jobs=20)]: Done 325 tasks      | elapsed:  7.8min\n",
      "[Parallel(n_jobs=20)]: Done 352 tasks      | elapsed:  8.4min\n",
      "[Parallel(n_jobs=20)]: Done 381 tasks      | elapsed:  8.9min\n",
      "[Parallel(n_jobs=20)]: Done 410 tasks      | elapsed:  9.6min\n",
      "[Parallel(n_jobs=20)]: Done 441 tasks      | elapsed: 10.2min\n",
      "[Parallel(n_jobs=20)]: Done 472 tasks      | elapsed: 10.9min\n",
      "[Parallel(n_jobs=20)]: Done 505 tasks      | elapsed: 11.7min\n",
      "[Parallel(n_jobs=20)]: Done 538 tasks      | elapsed: 12.4min\n",
      "[Parallel(n_jobs=20)]: Done 573 tasks      | elapsed: 13.3min\n",
      "[Parallel(n_jobs=20)]: Done 608 tasks      | elapsed: 14.1min\n",
      "[Parallel(n_jobs=20)]: Done 645 tasks      | elapsed: 15.0min\n",
      "[Parallel(n_jobs=20)]: Done 682 tasks      | elapsed: 15.9min\n",
      "[Parallel(n_jobs=20)]: Done 721 tasks      | elapsed: 16.7min\n",
      "[Parallel(n_jobs=20)]: Done 760 tasks      | elapsed: 17.7min\n",
      "[Parallel(n_jobs=20)]: Done 801 tasks      | elapsed: 18.5min\n",
      "[Parallel(n_jobs=20)]: Done 842 tasks      | elapsed: 19.5min\n",
      "[Parallel(n_jobs=20)]: Done 885 tasks      | elapsed: 20.4min\n",
      "[Parallel(n_jobs=20)]: Done 928 tasks      | elapsed: 21.3min\n",
      "[Parallel(n_jobs=20)]: Done 973 tasks      | elapsed: 22.4min\n",
      "[Parallel(n_jobs=20)]: Done 1018 tasks      | elapsed: 23.4min\n",
      "[Parallel(n_jobs=20)]: Done 1065 tasks      | elapsed: 24.6min\n",
      "[Parallel(n_jobs=20)]: Done 1112 tasks      | elapsed: 25.7min\n",
      "[Parallel(n_jobs=20)]: Done 1161 tasks      | elapsed: 26.9min\n",
      "[Parallel(n_jobs=20)]: Done 1217 out of 1217 | elapsed: 28.5min finished\n"
     ]
    }
   ],
   "source": [
    "Parallel(n_jobs=20, verbose=10)(delayed(augment)(aud, jam, pitcher, OUTDIR) for (aud, jam) in zip(AUDIO, ANNOS));"
   ]
  }
 ],
 "metadata": {
  "kernelspec": {
   "display_name": "Python 3.4",
   "language": "python",
   "name": "py34"
  },
  "language_info": {
   "codemirror_mode": {
    "name": "ipython",
    "version": 3
   },
   "file_extension": ".py",
   "mimetype": "text/x-python",
   "name": "python",
   "nbconvert_exporter": "python",
   "pygments_lexer": "ipython3",
   "version": "3.4.5"
  }
 },
 "nbformat": 4,
 "nbformat_minor": 0
}
